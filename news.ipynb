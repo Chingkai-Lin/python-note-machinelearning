{
  "nbformat": 4,
  "nbformat_minor": 0,
  "metadata": {
    "colab": {
      "name": "news.ipynb",
      "provenance": [],
      "mount_file_id": "1xPQYDk_-9uyoZydtY38Ta3MYUp99uuYu",
      "authorship_tag": "ABX9TyPi20a04KFSg+MxiXRJzkq7",
      "include_colab_link": true
    },
    "kernelspec": {
      "name": "python3",
      "display_name": "Python 3"
    }
  },
  "cells": [
    {
      "cell_type": "markdown",
      "metadata": {
        "id": "view-in-github",
        "colab_type": "text"
      },
      "source": [
        "<a href=\"https://colab.research.google.com/github/Chingkai-Lin/python-notes-machinelearning/blob/main/news.ipynb\" target=\"_parent\"><img src=\"https://colab.research.google.com/assets/colab-badge.svg\" alt=\"Open In Colab\"/></a>"
      ]
    },
    {
      "cell_type": "markdown",
      "metadata": {
        "id": "7rBXylzdxCL-"
      },
      "source": [
        "## 自動分類新聞"
      ]
    },
    {
      "cell_type": "code",
      "metadata": {
        "id": "msY7Aapiw8AE",
        "outputId": "648c2dbc-c44b-471d-d894-163b8f5d4b5e",
        "colab": {
          "base_uri": "https://localhost:8080/"
        }
      },
      "source": [
        "# # glob可以探測有哪些檔案\n",
        "# import glob\n",
        "# glob.glob(\"drive/My Drive/news/*\")"
      ],
      "execution_count": null,
      "outputs": [
        {
          "output_type": "execute_result",
          "data": {
            "text/plain": [
              "['drive/My Drive/news/chinese_news_test.zip',\n",
              " 'drive/My Drive/news/chinese_news_trans.zip']"
            ]
          },
          "metadata": {
            "tags": []
          },
          "execution_count": 11
        }
      ]
    },
    {
      "cell_type": "code",
      "metadata": {
        "id": "i7qbNa9wyYPN"
      },
      "source": [
        "# 解壓縮檔案到目前的資料夾下\n",
        "import zipfile\n",
        "path = \"drive/My Drive/news/chinese_news_trans.zip\"\n",
        "f = zipfile.ZipFile(path)\n",
        "f.extractall()\n",
        "path = \"drive/My Drive/news/chinese_news_test.zip\"\n",
        "f = zipfile.ZipFile(path)\n",
        "f.extractall()"
      ],
      "execution_count": null,
      "outputs": []
    },
    {
      "cell_type": "markdown",
      "metadata": {
        "id": "niaWWNvE1Q8r"
      },
      "source": [
        "讀取，並切出「內容」以及「分類」"
      ]
    },
    {
      "cell_type": "code",
      "metadata": {
        "id": "MQQMMDd621LW",
        "outputId": "ce355aeb-46c8-4ab9-ee27-636187550806",
        "colab": {
          "base_uri": "https://localhost:8080/",
          "height": 419
        }
      },
      "source": [
        "import os\n",
        "import glob\n",
        "import pandas as pd\n",
        "\n",
        "def read_data(base):\n",
        "    contents, targets = [], []\n",
        "    basedn = os.path.join(base, \"*\")\n",
        "    for dn in glob.glob(basedn):\n",
        "        upper = os.path.join(dn, \"*.TXT\")\n",
        "        lower = os.path.join(dn, \"*.txt\")\n",
        "        for fn in glob.glob(upper) + glob.glob(lower):\n",
        "            with open(fn, \"r\", encoding=\"utf-8\") as f:\n",
        "                contents.append(f.read())\n",
        "            target = os.path.split(dn)[-1]\n",
        "            targets.append(target)\n",
        "    df = pd.DataFrame({\n",
        "        \"content\":contents,\n",
        "        \"target\":targets\n",
        "    })\n",
        "    return df\n",
        "train_df = read_data(\"chinese_news_trans\")\n",
        "test_df = read_data(\"chinese_news_test\")"
      ],
      "execution_count": null,
      "outputs": [
        {
          "output_type": "execute_result",
          "data": {
            "text/html": [
              "<div>\n",
              "<style scoped>\n",
              "    .dataframe tbody tr th:only-of-type {\n",
              "        vertical-align: middle;\n",
              "    }\n",
              "\n",
              "    .dataframe tbody tr th {\n",
              "        vertical-align: top;\n",
              "    }\n",
              "\n",
              "    .dataframe thead th {\n",
              "        text-align: right;\n",
              "    }\n",
              "</style>\n",
              "<table border=\"1\" class=\"dataframe\">\n",
              "  <thead>\n",
              "    <tr style=\"text-align: right;\">\n",
              "      <th></th>\n",
              "      <th>content</th>\n",
              "      <th>target</th>\n",
              "    </tr>\n",
              "  </thead>\n",
              "  <tbody>\n",
              "    <tr>\n",
              "      <th>0</th>\n",
              "      <td>日月光華 -- FDU_E.S.E.精華區文章閱讀\\n-------------------...</td>\n",
              "      <td>環境</td>\n",
              "    </tr>\n",
              "    <tr>\n",
              "      <th>1</th>\n",
              "      <td>日月光華 -- FDU_E.S.E.精華區文章閱讀\\n-------------------...</td>\n",
              "      <td>環境</td>\n",
              "    </tr>\n",
              "    <tr>\n",
              "      <th>2</th>\n",
              "      <td>日月光華 -- FDU_E.S.E.精華區文章閱讀\\n-------------------...</td>\n",
              "      <td>環境</td>\n",
              "    </tr>\n",
              "    <tr>\n",
              "      <th>3</th>\n",
              "      <td>日月光華 -- FDU_E.S.E.精華區文章閱讀\\n-------------------...</td>\n",
              "      <td>環境</td>\n",
              "    </tr>\n",
              "    <tr>\n",
              "      <th>4</th>\n",
              "      <td>日月光華 -- FDU_E.S.E.精華區文章閱讀\\n-------------------...</td>\n",
              "      <td>環境</td>\n",
              "    </tr>\n",
              "    <tr>\n",
              "      <th>...</th>\n",
              "      <td>...</td>\n",
              "      <td>...</td>\n",
              "    </tr>\n",
              "    <tr>\n",
              "      <th>96</th>\n",
              "      <td>日月光華 -- Economics精華區文章閱讀\\n--------------------...</td>\n",
              "      <td>經濟</td>\n",
              "    </tr>\n",
              "    <tr>\n",
              "      <th>97</th>\n",
              "      <td>日月光華 -- Economics精華區文章閱讀\\n--------------------...</td>\n",
              "      <td>經濟</td>\n",
              "    </tr>\n",
              "    <tr>\n",
              "      <th>98</th>\n",
              "      <td>日月光華 -- Economics精華區文章閱讀\\n--------------------...</td>\n",
              "      <td>經濟</td>\n",
              "    </tr>\n",
              "    <tr>\n",
              "      <th>99</th>\n",
              "      <td>日月光華 -- Economics精華區文章閱讀\\n--------------------...</td>\n",
              "      <td>經濟</td>\n",
              "    </tr>\n",
              "    <tr>\n",
              "      <th>100</th>\n",
              "      <td>日月光華 -- Economics精華區文章閱讀\\n--------------------...</td>\n",
              "      <td>經濟</td>\n",
              "    </tr>\n",
              "  </tbody>\n",
              "</table>\n",
              "<p>101 rows × 2 columns</p>\n",
              "</div>"
            ],
            "text/plain": [
              "                                               content target\n",
              "0    日月光華 -- FDU_E.S.E.精華區文章閱讀\\n-------------------...     環境\n",
              "1    日月光華 -- FDU_E.S.E.精華區文章閱讀\\n-------------------...     環境\n",
              "2    日月光華 -- FDU_E.S.E.精華區文章閱讀\\n-------------------...     環境\n",
              "3    日月光華 -- FDU_E.S.E.精華區文章閱讀\\n-------------------...     環境\n",
              "4    日月光華 -- FDU_E.S.E.精華區文章閱讀\\n-------------------...     環境\n",
              "..                                                 ...    ...\n",
              "96   日月光華 -- Economics精華區文章閱讀\\n--------------------...     經濟\n",
              "97   日月光華 -- Economics精華區文章閱讀\\n--------------------...     經濟\n",
              "98   日月光華 -- Economics精華區文章閱讀\\n--------------------...     經濟\n",
              "99   日月光華 -- Economics精華區文章閱讀\\n--------------------...     經濟\n",
              "100  日月光華 -- Economics精華區文章閱讀\\n--------------------...     經濟\n",
              "\n",
              "[101 rows x 2 columns]"
            ]
          },
          "metadata": {
            "tags": []
          },
          "execution_count": 10
        }
      ]
    },
    {
      "cell_type": "code",
      "metadata": {
        "id": "E7LF7dRx4moZ",
        "outputId": "dca2efaa-77b3-49a0-f77e-d10c75f53f9b",
        "colab": {
          "base_uri": "https://localhost:8080/"
        }
      },
      "source": [
        "import glob\n",
        "glob.glob(\"chinese_news_trans/*\")"
      ],
      "execution_count": null,
      "outputs": [
        {
          "output_type": "execute_result",
          "data": {
            "text/plain": [
              "['chinese_news_trans/環境',\n",
              " 'chinese_news_trans/體育',\n",
              " 'chinese_news_trans/交通',\n",
              " 'chinese_news_trans/醫藥',\n",
              " 'chinese_news_trans/軍事',\n",
              " 'chinese_news_trans/藝術',\n",
              " 'chinese_news_trans/計算機',\n",
              " 'chinese_news_trans/教育',\n",
              " 'chinese_news_trans/政治',\n",
              " 'chinese_news_trans/經濟']"
            ]
          },
          "metadata": {
            "tags": []
          },
          "execution_count": 12
        }
      ]
    },
    {
      "cell_type": "code",
      "metadata": {
        "id": "_5NrUx9I4a2f",
        "outputId": "0a54dcc8-1888-4e05-c418-1976fbcbccbd",
        "colab": {
          "base_uri": "https://localhost:8080/"
        }
      },
      "source": [
        "# 處理資料 轉成0, 1, ...,9\n",
        "# Series.replace({\"環境:0}) 取出一列或一行，換成數字\n",
        "# unique/value_counts\n",
        "cat = train_df[\"target\"].unique()\n",
        "# enumerate搭配list\n",
        "trans = {w:i for i, w in enumerate(cat)}\n",
        "# 準備反向的字典\n",
        "trans_r = {i:w for i, w in enumerate(cat)}\n",
        "# 換成數字\n",
        "y_train = train_df[\"target\"].replace(trans)\n",
        "y_test = test_df[\"target\"].replace(trans)\n",
        "y_test"
      ],
      "execution_count": null,
      "outputs": [
        {
          "output_type": "execute_result",
          "data": {
            "text/plain": [
              "0      0\n",
              "1      0\n",
              "2      0\n",
              "3      0\n",
              "4      0\n",
              "      ..\n",
              "96     9\n",
              "97     9\n",
              "98     9\n",
              "99     9\n",
              "100    9\n",
              "Name: target, Length: 101, dtype: int64"
            ]
          },
          "metadata": {
            "tags": []
          },
          "execution_count": 36
        }
      ]
    },
    {
      "cell_type": "code",
      "metadata": {
        "id": "eUgvpZKO7EIW",
        "outputId": "a7b20a9d-a553-4a45-d638-5b4638e35549",
        "colab": {
          "base_uri": "https://localhost:8080/",
          "height": 222
        }
      },
      "source": [
        "import jieba\n",
        "# 此處載入較大的辭典\n",
        "from urllib.request import urlretrieve\n",
        "if not os.path.exists(\"dict.txt.big\"):\n",
        "    url = \"https://github.com/fxsjy/jieba/raw/master/extra_dict/dict.txt.big\"\n",
        "    urlretrieve(url, \"dict.txt.big\")\n",
        "jieba.set_dictionary(\"dict.txt.big\")\n",
        "# type(train_df[\"content\"\"])，可以使用type()確認是Series或是Dataframe\n",
        "# 標點符號、\\r、\\n需要去除\n",
        "p = train_df[\"content\"][0]\n",
        "\" \".join(jieba.cut(p))"
      ],
      "execution_count": null,
      "outputs": [
        {
          "output_type": "stream",
          "text": [
            "Building prefix dict from /content/dict.txt.big ...\n",
            "Loading model from cache /tmp/jieba.u501edca284da514cb68b53a20324f4e3.cache\n",
            "Loading model cost 1.299 seconds.\n",
            "Prefix dict has been built successfully.\n"
          ],
          "name": "stderr"
        },
        {
          "output_type": "execute_result",
          "data": {
            "application/vnd.google.colaboratory.intrinsic+json": {
              "type": "string"
            },
            "text/plain": [
              "'                      《 瞭望 》 週刊 文章 ： 一個 全球性 的 環境 問題 — — 垃圾 \\n 新華社 北京 ５ 月 １ ２ 日電 ５ 月 １ ４ 日 出版 的 第 ２ ０ 期 \\n                           《 瞭望 》 週刊 將 發表 署名文章 《 一個 全球性 的 環境 問題 》 \\n                           。 文章 摘要 如下 ： \\n                                   目前 ， 世界 各國 拋棄 的 垃圾 越來越 多 ， 也 越來越 難處 \\n                           理 。 據估計 ， 全球 每年 新增 的 垃圾 有 １ ０ ０ 億噸 左右 ， 人 \\n                           均 ２ 噸 。 \\n                                   世界 上 產生 垃圾 最多 的 是 美國 、 聯邦德國 、 英國 和 日 \\n                           本 。 僅 美國 ， 每年 產生 工業 垃圾 ２ ０ 億噸 以上 ， 城市居民 \\n                           垃圾 ２ · ２ 億噸 ， 丟棄 的 舊 汽車 １ ０ ０ ０ 多萬輛 ， 廢輪胎 \\n                           上 億隻 ， 全國 垃圾 佔地面積 １ · １ ８ 萬平方公里 。 華盛頓 \\n                           曾 有 一家 環保 機構 驚呼 ： 到 ９ ０ 年代 末 ， 美國 將有 一半 以 \\n                           上 的 城市 無處 傾倒垃圾 ！ \\n                                   有人 形象 地說 ， 垃圾 “ 無孔不入 ” 。 就連 被 認為 全球 \\n                           淨土 的 珠穆朗瑪 峰 、 南極 ， 都 有 垃圾 “ 光顧 ” 。 近年來 ， \\n                           垃圾 又 在 太空 “ 安家落戶 ” 。 自 １ ９ ５ ７ 年 蘇聯 發射 第一 \\n                           顆 人造衛星 以來 ， 人類 在 地球 周圍 的 空間 留下 了 大量 的 太 \\n                           空 廢物 。 據 觀測 ， 在 太空 軌道 上 有 ７ ２ ０ ０ 個 １ ０ 釐米 大 \\n                           小 以上 的 廢物 碎塊 在 運轉 ， 這些 高速運轉 的 太空 垃圾 ， 成 \\n                           為 危險 的 “ 飄遊 炸彈 ” 。 \\n                                   垃圾 不僅 有礙觀瞻 ， 佔用 大量 土地 ， 更 重要 的 是 汙染 \\n                           環境 ， 危害 人們 健康 。 \\n                                   地球 上 的 危險廢物 正在 以 每年 ５ 億噸 的 速度 增加 。 危 \\n                           險 廢物 主要 產於 西方 工業化 國家 ， 其 產量 佔 全世界 總產量 \\n                           的 百分之九十 。 堆積如山 的 危險 廢料 ， 日益 強烈 的 環保 呼 \\n                           聲 ， 十分 高昂 的 處理 代價 以及 有限 的 處理 能力 ， 使歐 美國 \\n                           家 紛紛 向外 謀求 出路 。 目前 ， 每 ５ 分鐘 就 有 一船 危險廢物 \\n                           跨越國界 。 第三世界 國家 是 危險廢物 跨境 活動 的 最大 受害 \\n                           者 。 １ ９ ８ ６ 年 — １ ９ ８ ８ 年間 ， 工業化 國家 往 第三世界 \\n                           國家 輸出 的 危險廢物 達 ６ ０ ０ 萬噸 之多 。 第三世界 國家 已 \\n                           成為 西方 工業化 國家 危險廢物 的 堆放 地 。 近年來 ， 越來越 \\n                           多 的 第三世界 國家 認識 到 了 這一 嚴重 的 危害性 ， 紛紛 起來 \\n                           抵制 工業化 國家 傾倒 危險廢物 ， 要求 建立 危險廢物 跨境 國 \\n                           際 法規 。 這一 問題 引起 了 聯合國環境規劃署 的 重視 ， 目前 \\n                           正在 組織 起草 兩個 國際公約 ， 以 徹底 制止 向 第三世界 國家 \\n                           傾倒 有毒 廢物 。 \\n                                   面對 垃圾 的 困擾 ， 人們 越來越 意識 到 ， 最好 的 辦法 就 \\n                           是 進行 有效 的 處理 和 利用 。 實際上 ， 垃圾 的 處理 和 利用 有 \\n                           悠久 的 歷史 。 早 在 公元前 ３ ０ ０ ０ 年 — １ ０ ０ ０ 年 古希臘 \\n                           米諾斯 文明 時期 ， 克里特島 的 首府 諾薩斯 即 有將 垃圾 覆土 \\n                           埋入 大坑 的 處理 。 中國 、 印度 等 亞洲 國家 ， 自古以來 就 有 \\n                           利用 糞便 和 垃圾 作 堆肥 的 處置 方法 。 ７ ０ 年代 以來 ， 人們 \\n                           提出 了 “ 資源 循環 利用 ” 的 觀點 。 此後 在 世界 許多 國家 ， \\n                           垃圾 問題 引起 了 政府部門 的 重視 ， 有關 垃圾 的 專門 管理 機 \\n                           構和 科學研究 機構 及其 制定 的 法規 也 應運而生 。 目前 ， 垃 \\n                           圾 的 主要 處置 方法 有 ５ 種 ： 露天 堆存 、 圍隔 堆存 、 填埋 、 \\n                           焚化 和 生物降解 。 \\n                                   就 世界 而言 ， 垃圾 問題 在 今後 相當 長 的 時期 內 仍然 是 \\n                           困擾 人類 的 重大 社會 環境 問題 。 雖然 工業化 國家 的 垃圾 部 \\n                           分 得到 了 處理 ， 但是 問題 遠遠 沒有 解決 。 即使 在 處理過程 \\n                           中 ， 有些 處理方式 還會 造成 二次 汙染 。 據 歐共體 委員會 統 \\n                           計 ， １ ２ 個 成員國 的 ５ ２ ０ 座 垃圾 焚化 廠 每年 排放 塵埃 ２ \\n                           · ８ 萬噸 、 鉛 ５ ７ ０ 噸 、 氯化氫 １ ４ ４ 噸 、 汞 ６ ８ 噸 、 鎘 \\n                           ３ １ 噸 ， 嚴重 汙染 了 生態環境 。 第三世界 國家 目前 尚無 足 \\n                           夠的 經濟 能力 和 技術水平 來 大量 處理 和 利用 垃圾 。 一些 有 \\n                           識之士 呼籲 ， 世界 各國 政府 和 人民 必須 共同努力 ， 一道 來 \\n                           解決 這個 可能 遺患 後人 的 全球 問題 。 （ 完 ） \\n \\n'"
            ]
          },
          "metadata": {
            "tags": []
          },
          "execution_count": 37
        }
      ]
    },
    {
      "cell_type": "code",
      "metadata": {
        "id": "nVbAqkv477ks",
        "outputId": "e7c9d308-6e0f-47e6-c289-7c6dc6acfcef",
        "colab": {
          "base_uri": "https://localhost:8080/"
        }
      },
      "source": [
        "# 對全部做切詞\n",
        "# apply(函式名字)\n",
        "# 小括號: 函式沒有加上小括號的時候是給步驟，並未執行，會自行執行\n",
        "def newscut(p):\n",
        "    return \" \".join(jieba.cut(p))\n",
        "x_train = train_df[\"content\"].apply(newscut)\n",
        "x_test = test_df[\"content\"].apply(newscut)\n",
        "x_test"
      ],
      "execution_count": null,
      "outputs": [
        {
          "output_type": "execute_result",
          "data": {
            "text/plain": [
              "0      日月 光華   --   FDU _ E . S . E . 精華區 文章 閱讀 \\n --...\n",
              "1      日月 光華   --   FDU _ E . S . E . 精華區 文章 閱讀 \\n --...\n",
              "2      日月 光華   --   FDU _ E . S . E . 精華區 文章 閱讀 \\n --...\n",
              "3      日月 光華   --   FDU _ E . S . E . 精華區 文章 閱讀 \\n --...\n",
              "4      日月 光華   --   FDU _ E . S . E . 精華區 文章 閱讀 \\n --...\n",
              "                             ...                        \n",
              "96     日月 光華   --   Economics 精華區 文章 閱讀 \\n ----------...\n",
              "97     日月 光華   --   Economics 精華區 文章 閱讀 \\n ----------...\n",
              "98     日月 光華   --   Economics 精華區 文章 閱讀 \\n ----------...\n",
              "99     日月 光華   --   Economics 精華區 文章 閱讀 \\n ----------...\n",
              "100    日月 光華   --   Economics 精華區 文章 閱讀 \\n ----------...\n",
              "Name: content, Length: 101, dtype: object"
            ]
          },
          "metadata": {
            "tags": []
          },
          "execution_count": 38
        }
      ]
    },
    {
      "cell_type": "code",
      "metadata": {
        "id": "oLJIozeY8Obv"
      },
      "source": [
        "# 數次數\n",
        "# fit 找出最小值和最大值\n",
        "# fit_transform 轉換最小值0以及最大值1\n",
        "# train: fit + transform\n",
        "# test測試資料不做fit，只做transform，因為沒有出現過的資料有多少不重要！欄位不需重置\n",
        "# 測試資料為根據train的fit資料做transform\n",
        "from sklearn.feature_extraction.text import CountVectorizer\n",
        "vec = CountVectorizer()\n",
        "# 下列的fit會把X_train的欄位存入到vec內\n",
        "x_train_count = vec.fit_transform(x_train)\n",
        "x_test_count = vec.transform(x_test)"
      ],
      "execution_count": null,
      "outputs": []
    },
    {
      "cell_type": "code",
      "metadata": {
        "id": "HtcM46Pv8coc"
      },
      "source": [
        "# vec.vocabulary_\n",
        "# x_train_count\n",
        "# print(x_train_count) #確認每欄有多少字來決定alpha要不要改\n",
        "# vec.vocabulary_[\"\\r\\n\"] # 確認標點符號是否在字典裡面"
      ],
      "execution_count": null,
      "outputs": []
    },
    {
      "cell_type": "code",
      "metadata": {
        "id": "rcIa1P1p8qty",
        "outputId": "46d21b1c-cd8a-49a4-e8a4-8dc4953afd29",
        "colab": {
          "base_uri": "https://localhost:8080/"
        }
      },
      "source": [
        "# naive bayes 文字類型 multinomial\n",
        "from sklearn.naive_bayes import MultinomialNB\n",
        "# alpha若不調，預設值為1，依照資料量來調整alpha的數值\n",
        "clf = MultinomialNB(alpha=0.01)\n",
        "clf.fit(x_train_count, y_train)"
      ],
      "execution_count": null,
      "outputs": [
        {
          "output_type": "execute_result",
          "data": {
            "text/plain": [
              "MultinomialNB(alpha=0.01, class_prior=None, fit_prior=True)"
            ]
          },
          "metadata": {
            "tags": []
          },
          "execution_count": 40
        }
      ]
    },
    {
      "cell_type": "code",
      "metadata": {
        "id": "MtdDdr9T8w9v",
        "outputId": "711593b8-e737-4f85-e579-cfd35f5b8c78",
        "colab": {
          "base_uri": "https://localhost:8080/"
        }
      },
      "source": [
        "from sklearn.metrics import accuracy_score\n",
        "pre = clf.predict(x_test_count)\n",
        "accuracy_score(pre, y_test)"
      ],
      "execution_count": null,
      "outputs": [
        {
          "output_type": "execute_result",
          "data": {
            "text/plain": [
              "1.0"
            ]
          },
          "metadata": {
            "tags": []
          },
          "execution_count": 41
        }
      ]
    },
    {
      "cell_type": "code",
      "metadata": {
        "id": "xi2Z90My83i9",
        "outputId": "4d5450d2-c7e8-4059-c73f-68a964ca1fb8",
        "colab": {
          "base_uri": "https://localhost:8080/",
          "height": 359
        }
      },
      "source": [
        "# 混淆舉證 confusion_metrix\n",
        "from sklearn.metrics import confusion_matrix\n",
        "mat = confusion_matrix(y_test, pre)\n",
        "pd.DataFrame(mat,\n",
        "      index=[name + \"(原本)\" for name in target],\n",
        "      columns=[name + \"(預測)\" for name in target],)"
      ],
      "execution_count": null,
      "outputs": [
        {
          "output_type": "execute_result",
          "data": {
            "text/html": [
              "<div>\n",
              "<style scoped>\n",
              "    .dataframe tbody tr th:only-of-type {\n",
              "        vertical-align: middle;\n",
              "    }\n",
              "\n",
              "    .dataframe tbody tr th {\n",
              "        vertical-align: top;\n",
              "    }\n",
              "\n",
              "    .dataframe thead th {\n",
              "        text-align: right;\n",
              "    }\n",
              "</style>\n",
              "<table border=\"1\" class=\"dataframe\">\n",
              "  <thead>\n",
              "    <tr style=\"text-align: right;\">\n",
              "      <th></th>\n",
              "      <th>環境(預測)</th>\n",
              "      <th>體育(預測)</th>\n",
              "      <th>交通(預測)</th>\n",
              "      <th>醫藥(預測)</th>\n",
              "      <th>軍事(預測)</th>\n",
              "      <th>藝術(預測)</th>\n",
              "      <th>計算機(預測)</th>\n",
              "      <th>教育(預測)</th>\n",
              "      <th>政治(預測)</th>\n",
              "      <th>經濟(預測)</th>\n",
              "    </tr>\n",
              "  </thead>\n",
              "  <tbody>\n",
              "    <tr>\n",
              "      <th>環境(原本)</th>\n",
              "      <td>10</td>\n",
              "      <td>0</td>\n",
              "      <td>0</td>\n",
              "      <td>0</td>\n",
              "      <td>0</td>\n",
              "      <td>0</td>\n",
              "      <td>0</td>\n",
              "      <td>0</td>\n",
              "      <td>0</td>\n",
              "      <td>0</td>\n",
              "    </tr>\n",
              "    <tr>\n",
              "      <th>體育(原本)</th>\n",
              "      <td>0</td>\n",
              "      <td>10</td>\n",
              "      <td>0</td>\n",
              "      <td>0</td>\n",
              "      <td>0</td>\n",
              "      <td>0</td>\n",
              "      <td>0</td>\n",
              "      <td>0</td>\n",
              "      <td>0</td>\n",
              "      <td>0</td>\n",
              "    </tr>\n",
              "    <tr>\n",
              "      <th>交通(原本)</th>\n",
              "      <td>0</td>\n",
              "      <td>0</td>\n",
              "      <td>10</td>\n",
              "      <td>0</td>\n",
              "      <td>0</td>\n",
              "      <td>0</td>\n",
              "      <td>0</td>\n",
              "      <td>0</td>\n",
              "      <td>0</td>\n",
              "      <td>0</td>\n",
              "    </tr>\n",
              "    <tr>\n",
              "      <th>醫藥(原本)</th>\n",
              "      <td>0</td>\n",
              "      <td>0</td>\n",
              "      <td>0</td>\n",
              "      <td>10</td>\n",
              "      <td>0</td>\n",
              "      <td>0</td>\n",
              "      <td>0</td>\n",
              "      <td>0</td>\n",
              "      <td>0</td>\n",
              "      <td>0</td>\n",
              "    </tr>\n",
              "    <tr>\n",
              "      <th>軍事(原本)</th>\n",
              "      <td>0</td>\n",
              "      <td>0</td>\n",
              "      <td>0</td>\n",
              "      <td>0</td>\n",
              "      <td>10</td>\n",
              "      <td>0</td>\n",
              "      <td>0</td>\n",
              "      <td>0</td>\n",
              "      <td>0</td>\n",
              "      <td>0</td>\n",
              "    </tr>\n",
              "    <tr>\n",
              "      <th>藝術(原本)</th>\n",
              "      <td>0</td>\n",
              "      <td>0</td>\n",
              "      <td>0</td>\n",
              "      <td>0</td>\n",
              "      <td>0</td>\n",
              "      <td>10</td>\n",
              "      <td>0</td>\n",
              "      <td>0</td>\n",
              "      <td>0</td>\n",
              "      <td>0</td>\n",
              "    </tr>\n",
              "    <tr>\n",
              "      <th>計算機(原本)</th>\n",
              "      <td>0</td>\n",
              "      <td>0</td>\n",
              "      <td>0</td>\n",
              "      <td>0</td>\n",
              "      <td>0</td>\n",
              "      <td>0</td>\n",
              "      <td>10</td>\n",
              "      <td>0</td>\n",
              "      <td>0</td>\n",
              "      <td>0</td>\n",
              "    </tr>\n",
              "    <tr>\n",
              "      <th>教育(原本)</th>\n",
              "      <td>0</td>\n",
              "      <td>0</td>\n",
              "      <td>0</td>\n",
              "      <td>0</td>\n",
              "      <td>0</td>\n",
              "      <td>0</td>\n",
              "      <td>0</td>\n",
              "      <td>10</td>\n",
              "      <td>0</td>\n",
              "      <td>0</td>\n",
              "    </tr>\n",
              "    <tr>\n",
              "      <th>政治(原本)</th>\n",
              "      <td>0</td>\n",
              "      <td>0</td>\n",
              "      <td>0</td>\n",
              "      <td>0</td>\n",
              "      <td>0</td>\n",
              "      <td>0</td>\n",
              "      <td>0</td>\n",
              "      <td>0</td>\n",
              "      <td>11</td>\n",
              "      <td>0</td>\n",
              "    </tr>\n",
              "    <tr>\n",
              "      <th>經濟(原本)</th>\n",
              "      <td>0</td>\n",
              "      <td>0</td>\n",
              "      <td>0</td>\n",
              "      <td>0</td>\n",
              "      <td>0</td>\n",
              "      <td>0</td>\n",
              "      <td>0</td>\n",
              "      <td>0</td>\n",
              "      <td>0</td>\n",
              "      <td>10</td>\n",
              "    </tr>\n",
              "  </tbody>\n",
              "</table>\n",
              "</div>"
            ],
            "text/plain": [
              "         環境(預測)  體育(預測)  交通(預測)  醫藥(預測)  ...  計算機(預測)  教育(預測)  政治(預測)  經濟(預測)\n",
              "環境(原本)       10       0       0       0  ...        0       0       0       0\n",
              "體育(原本)        0      10       0       0  ...        0       0       0       0\n",
              "交通(原本)        0       0      10       0  ...        0       0       0       0\n",
              "醫藥(原本)        0       0       0      10  ...        0       0       0       0\n",
              "軍事(原本)        0       0       0       0  ...        0       0       0       0\n",
              "藝術(原本)        0       0       0       0  ...        0       0       0       0\n",
              "計算機(原本)       0       0       0       0  ...       10       0       0       0\n",
              "教育(原本)        0       0       0       0  ...        0      10       0       0\n",
              "政治(原本)        0       0       0       0  ...        0       0      11       0\n",
              "經濟(原本)        0       0       0       0  ...        0       0       0      10\n",
              "\n",
              "[10 rows x 10 columns]"
            ]
          },
          "metadata": {
            "tags": []
          },
          "execution_count": 42
        }
      ]
    },
    {
      "cell_type": "code",
      "metadata": {
        "id": "EM9CcWG69Hky",
        "outputId": "046f9974-9e81-4a1c-e0e5-1e53dcd7ad9f",
        "colab": {
          "base_uri": "https://localhost:8080/"
        }
      },
      "source": [
        "# 輸入一則新聞\n",
        "p = input(\"輸入一則新聞:\")\n",
        "# 轉換成次數[分詞]\n",
        "x_predict = vec.transform([newscut(p)])\n",
        "# predict_proba多少比率預測\n",
        "proba = clf.predict_proba(x_predict)[0]\n",
        "# zip 把list對應的\n",
        "for w, p in zip(cat, proba):\n",
        "    print(w, \":\", round(p, 4))"
      ],
      "execution_count": null,
      "outputs": [
        {
          "output_type": "stream",
          "text": [
            "輸入一則新聞:武漢肺炎》新增3例境外移入！2例同班機自美返台！ 新頭殼newtalk | 曾郡秋 綜合報導 發布 2020.10.06 | 14:52       媒體小農 A-A+ 中央流行疫情指揮中心發言人莊人祥   圖：中央流行疫情指揮中/提供 中央流行疫情指揮中心發言人莊人祥   圖：中央流行疫情指揮中/提供 今(6)日中央流行疫情指揮中心公布國內新增3例境外移入武漢肺炎(COVID-19)病例，其中2人為30多歲男性(案519、521)，1人為20多歲女性(案520)，均為本國籍，分別自美國及法國返台。其中案521與案519搭乘同班機自美返台，同班機前後二排座位旅客共11人居列為居家隔離對象。  發言人莊人祥表示，案519長期在美國工作，約2至3個月返台一次，在美國期間無不適症狀，10月4日返台，入境時主動告知搭機時出現喉嚨癢症狀，由機場檢疫人員協助採檢，於今日確診。  衛生單位已掌握個案同班機接觸者共21人，其中10人為前後二排座位旅客，列居家隔離對象，11人為機組員，因全程有適當防護，列自主健康管理對象。   莊人祥指出，案520今年已於法國留學畢業，9月中旬再前往法國處理私人事務，9月27日至30日陸續出現發燒、頭痛、流鼻水、鼻塞及嗅覺異常症狀，未於法國當地就醫；個案10月4日返國，入境時主動告知檢疫人員有流鼻水、鼻塞症狀，於機場進行採檢，並於今日確診。  目前衛生單位已掌握個案同班機接觸者共18人，其中7人為前後二排座位旅客，列居家隔離對象，11人為機組員，因全程有適當防護，列自主健康管理對象。  指揮中心表示，案521長期於美國工作(前次自台灣出境時間為去年5月)，今年10月3日起陸續出現腹瀉、喉嚨腫情形，10月4日返台，入境時主動告知檢疫人員有腹瀉情形，於機場進行採檢，並於今日確診。因本個案與案519搭乘同班機返台(兩人互不認識)，其中機組員7人已列為案519接觸者不重複匡列，而同班機前後二排座位旅客共11人則列為居家隔離對象。  指揮中心統計，國內截至目前累計95,089例武漢肺炎相關通報(含93,745例排除)，其中521例確診，分別為429例境外移入病例，55例本土病例，36例敦睦艦隊及1例不明。確診個案中7人死亡、485人解除隔離、29人住院隔離中。\n",
            "環境 : 0.0\n",
            "體育 : 0.0\n",
            "交通 : 1.0\n",
            "醫藥 : 0.0\n",
            "軍事 : 0.0\n",
            "藝術 : 0.0\n",
            "計算機 : 0.0\n",
            "教育 : 0.0\n",
            "政治 : 0.0\n",
            "經濟 : 0.0\n"
          ],
          "name": "stdout"
        }
      ]
    }
  ]
}
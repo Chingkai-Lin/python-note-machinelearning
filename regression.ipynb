{
  "nbformat": 4,
  "nbformat_minor": 0,
  "metadata": {
    "colab": {
      "name": "regression.ipynb",
      "provenance": [],
      "authorship_tag": "ABX9TyPpUubFCml3X6ne3NdU593B",
      "include_colab_link": true
    },
    "kernelspec": {
      "name": "python3",
      "display_name": "Python 3"
    }
  },
  "cells": [
    {
      "cell_type": "markdown",
      "metadata": {
        "id": "view-in-github",
        "colab_type": "text"
      },
      "source": [
        "<a href=\"https://colab.research.google.com/github/Chingkai-Lin/python-notes-machinelearning/blob/main/regression.ipynb\" target=\"_parent\"><img src=\"https://colab.research.google.com/assets/colab-badge.svg\" alt=\"Open In Colab\"/></a>"
      ]
    },
    {
      "cell_type": "markdown",
      "metadata": {
        "id": "nIy3VBfLg_Di"
      },
      "source": [
        "# 機器學習資料集：波士頓房價的資料庫"
      ]
    },
    {
      "cell_type": "markdown",
      "metadata": {
        "id": "VheVKNAHFAqa"
      },
      "source": [
        "CRIM：人均犯罪率\n",
        "\n",
        "ZN：25,000平方英尺以上民用土地的比例\n",
        "\n",
        "INDUS：城镇非零售业商用土地比例\n",
        "\n",
        "CHAS：是否邻近查尔斯河，1是邻近，0是不邻近\n",
        "\n",
        "NOX：一氧化氮浓度（千万分之一）\n",
        "\n",
        "RM：住宅的平均房间数\n",
        "\n",
        "AGE：自住且建于1940年前的房屋比例\n",
        "\n",
        "DIS：到5个波士顿就业中心的加权距离\n",
        "\n",
        "RAD：到高速公路的便捷度指数\n",
        "\n",
        "TAX：每万元的房产税率\n",
        "\n",
        "PTRATIO：城镇学生教师比例\n",
        "\n",
        "B： 1000(Bk − 0.63)2 其中Bk是城镇中黑人比例\n",
        "\n",
        "LSTAT：低收入人群比例\n",
        "\n",
        "ans：自住房中位数价格，单位是千元"
      ]
    },
    {
      "cell_type": "code",
      "metadata": {
        "id": "x38gmqqce9B5",
        "outputId": "8ca35110-b4fd-45ef-afd3-2e5e8443b201",
        "colab": {
          "base_uri": "https://localhost:8080/",
          "height": 419
        }
      },
      "source": [
        "import pandas as pd\n",
        "from sklearn.datasets import load_boston\n",
        "pd.options.display.max_rows = 20 # 可以更改list顯示的上限 row行 columns列\n",
        "boston = load_boston()\n",
        "df = pd.DataFrame(boston[\"data\"], columns=boston[\"feature_names\"])\n",
        "df[\"target\"] = boston[\"target\"]\n",
        "df"
      ],
      "execution_count": null,
      "outputs": [
        {
          "output_type": "execute_result",
          "data": {
            "text/html": [
              "<div>\n",
              "<style scoped>\n",
              "    .dataframe tbody tr th:only-of-type {\n",
              "        vertical-align: middle;\n",
              "    }\n",
              "\n",
              "    .dataframe tbody tr th {\n",
              "        vertical-align: top;\n",
              "    }\n",
              "\n",
              "    .dataframe thead th {\n",
              "        text-align: right;\n",
              "    }\n",
              "</style>\n",
              "<table border=\"1\" class=\"dataframe\">\n",
              "  <thead>\n",
              "    <tr style=\"text-align: right;\">\n",
              "      <th></th>\n",
              "      <th>CRIM</th>\n",
              "      <th>ZN</th>\n",
              "      <th>INDUS</th>\n",
              "      <th>CHAS</th>\n",
              "      <th>NOX</th>\n",
              "      <th>RM</th>\n",
              "      <th>AGE</th>\n",
              "      <th>DIS</th>\n",
              "      <th>RAD</th>\n",
              "      <th>TAX</th>\n",
              "      <th>PTRATIO</th>\n",
              "      <th>B</th>\n",
              "      <th>LSTAT</th>\n",
              "      <th>target</th>\n",
              "    </tr>\n",
              "  </thead>\n",
              "  <tbody>\n",
              "    <tr>\n",
              "      <th>0</th>\n",
              "      <td>0.00632</td>\n",
              "      <td>18.0</td>\n",
              "      <td>2.31</td>\n",
              "      <td>0.0</td>\n",
              "      <td>0.538</td>\n",
              "      <td>6.575</td>\n",
              "      <td>65.2</td>\n",
              "      <td>4.0900</td>\n",
              "      <td>1.0</td>\n",
              "      <td>296.0</td>\n",
              "      <td>15.3</td>\n",
              "      <td>396.90</td>\n",
              "      <td>4.98</td>\n",
              "      <td>24.0</td>\n",
              "    </tr>\n",
              "    <tr>\n",
              "      <th>1</th>\n",
              "      <td>0.02731</td>\n",
              "      <td>0.0</td>\n",
              "      <td>7.07</td>\n",
              "      <td>0.0</td>\n",
              "      <td>0.469</td>\n",
              "      <td>6.421</td>\n",
              "      <td>78.9</td>\n",
              "      <td>4.9671</td>\n",
              "      <td>2.0</td>\n",
              "      <td>242.0</td>\n",
              "      <td>17.8</td>\n",
              "      <td>396.90</td>\n",
              "      <td>9.14</td>\n",
              "      <td>21.6</td>\n",
              "    </tr>\n",
              "    <tr>\n",
              "      <th>2</th>\n",
              "      <td>0.02729</td>\n",
              "      <td>0.0</td>\n",
              "      <td>7.07</td>\n",
              "      <td>0.0</td>\n",
              "      <td>0.469</td>\n",
              "      <td>7.185</td>\n",
              "      <td>61.1</td>\n",
              "      <td>4.9671</td>\n",
              "      <td>2.0</td>\n",
              "      <td>242.0</td>\n",
              "      <td>17.8</td>\n",
              "      <td>392.83</td>\n",
              "      <td>4.03</td>\n",
              "      <td>34.7</td>\n",
              "    </tr>\n",
              "    <tr>\n",
              "      <th>3</th>\n",
              "      <td>0.03237</td>\n",
              "      <td>0.0</td>\n",
              "      <td>2.18</td>\n",
              "      <td>0.0</td>\n",
              "      <td>0.458</td>\n",
              "      <td>6.998</td>\n",
              "      <td>45.8</td>\n",
              "      <td>6.0622</td>\n",
              "      <td>3.0</td>\n",
              "      <td>222.0</td>\n",
              "      <td>18.7</td>\n",
              "      <td>394.63</td>\n",
              "      <td>2.94</td>\n",
              "      <td>33.4</td>\n",
              "    </tr>\n",
              "    <tr>\n",
              "      <th>4</th>\n",
              "      <td>0.06905</td>\n",
              "      <td>0.0</td>\n",
              "      <td>2.18</td>\n",
              "      <td>0.0</td>\n",
              "      <td>0.458</td>\n",
              "      <td>7.147</td>\n",
              "      <td>54.2</td>\n",
              "      <td>6.0622</td>\n",
              "      <td>3.0</td>\n",
              "      <td>222.0</td>\n",
              "      <td>18.7</td>\n",
              "      <td>396.90</td>\n",
              "      <td>5.33</td>\n",
              "      <td>36.2</td>\n",
              "    </tr>\n",
              "    <tr>\n",
              "      <th>...</th>\n",
              "      <td>...</td>\n",
              "      <td>...</td>\n",
              "      <td>...</td>\n",
              "      <td>...</td>\n",
              "      <td>...</td>\n",
              "      <td>...</td>\n",
              "      <td>...</td>\n",
              "      <td>...</td>\n",
              "      <td>...</td>\n",
              "      <td>...</td>\n",
              "      <td>...</td>\n",
              "      <td>...</td>\n",
              "      <td>...</td>\n",
              "      <td>...</td>\n",
              "    </tr>\n",
              "    <tr>\n",
              "      <th>501</th>\n",
              "      <td>0.06263</td>\n",
              "      <td>0.0</td>\n",
              "      <td>11.93</td>\n",
              "      <td>0.0</td>\n",
              "      <td>0.573</td>\n",
              "      <td>6.593</td>\n",
              "      <td>69.1</td>\n",
              "      <td>2.4786</td>\n",
              "      <td>1.0</td>\n",
              "      <td>273.0</td>\n",
              "      <td>21.0</td>\n",
              "      <td>391.99</td>\n",
              "      <td>9.67</td>\n",
              "      <td>22.4</td>\n",
              "    </tr>\n",
              "    <tr>\n",
              "      <th>502</th>\n",
              "      <td>0.04527</td>\n",
              "      <td>0.0</td>\n",
              "      <td>11.93</td>\n",
              "      <td>0.0</td>\n",
              "      <td>0.573</td>\n",
              "      <td>6.120</td>\n",
              "      <td>76.7</td>\n",
              "      <td>2.2875</td>\n",
              "      <td>1.0</td>\n",
              "      <td>273.0</td>\n",
              "      <td>21.0</td>\n",
              "      <td>396.90</td>\n",
              "      <td>9.08</td>\n",
              "      <td>20.6</td>\n",
              "    </tr>\n",
              "    <tr>\n",
              "      <th>503</th>\n",
              "      <td>0.06076</td>\n",
              "      <td>0.0</td>\n",
              "      <td>11.93</td>\n",
              "      <td>0.0</td>\n",
              "      <td>0.573</td>\n",
              "      <td>6.976</td>\n",
              "      <td>91.0</td>\n",
              "      <td>2.1675</td>\n",
              "      <td>1.0</td>\n",
              "      <td>273.0</td>\n",
              "      <td>21.0</td>\n",
              "      <td>396.90</td>\n",
              "      <td>5.64</td>\n",
              "      <td>23.9</td>\n",
              "    </tr>\n",
              "    <tr>\n",
              "      <th>504</th>\n",
              "      <td>0.10959</td>\n",
              "      <td>0.0</td>\n",
              "      <td>11.93</td>\n",
              "      <td>0.0</td>\n",
              "      <td>0.573</td>\n",
              "      <td>6.794</td>\n",
              "      <td>89.3</td>\n",
              "      <td>2.3889</td>\n",
              "      <td>1.0</td>\n",
              "      <td>273.0</td>\n",
              "      <td>21.0</td>\n",
              "      <td>393.45</td>\n",
              "      <td>6.48</td>\n",
              "      <td>22.0</td>\n",
              "    </tr>\n",
              "    <tr>\n",
              "      <th>505</th>\n",
              "      <td>0.04741</td>\n",
              "      <td>0.0</td>\n",
              "      <td>11.93</td>\n",
              "      <td>0.0</td>\n",
              "      <td>0.573</td>\n",
              "      <td>6.030</td>\n",
              "      <td>80.8</td>\n",
              "      <td>2.5050</td>\n",
              "      <td>1.0</td>\n",
              "      <td>273.0</td>\n",
              "      <td>21.0</td>\n",
              "      <td>396.90</td>\n",
              "      <td>7.88</td>\n",
              "      <td>11.9</td>\n",
              "    </tr>\n",
              "  </tbody>\n",
              "</table>\n",
              "<p>506 rows × 14 columns</p>\n",
              "</div>"
            ],
            "text/plain": [
              "        CRIM    ZN  INDUS  CHAS    NOX  ...    TAX  PTRATIO       B  LSTAT  target\n",
              "0    0.00632  18.0   2.31   0.0  0.538  ...  296.0     15.3  396.90   4.98    24.0\n",
              "1    0.02731   0.0   7.07   0.0  0.469  ...  242.0     17.8  396.90   9.14    21.6\n",
              "2    0.02729   0.0   7.07   0.0  0.469  ...  242.0     17.8  392.83   4.03    34.7\n",
              "3    0.03237   0.0   2.18   0.0  0.458  ...  222.0     18.7  394.63   2.94    33.4\n",
              "4    0.06905   0.0   2.18   0.0  0.458  ...  222.0     18.7  396.90   5.33    36.2\n",
              "..       ...   ...    ...   ...    ...  ...    ...      ...     ...    ...     ...\n",
              "501  0.06263   0.0  11.93   0.0  0.573  ...  273.0     21.0  391.99   9.67    22.4\n",
              "502  0.04527   0.0  11.93   0.0  0.573  ...  273.0     21.0  396.90   9.08    20.6\n",
              "503  0.06076   0.0  11.93   0.0  0.573  ...  273.0     21.0  396.90   5.64    23.9\n",
              "504  0.10959   0.0  11.93   0.0  0.573  ...  273.0     21.0  393.45   6.48    22.0\n",
              "505  0.04741   0.0  11.93   0.0  0.573  ...  273.0     21.0  396.90   7.88    11.9\n",
              "\n",
              "[506 rows x 14 columns]"
            ]
          },
          "metadata": {
            "tags": []
          },
          "execution_count": 2
        }
      ]
    },
    {
      "cell_type": "code",
      "metadata": {
        "id": "6YjLXBkWlsCq"
      },
      "source": [
        "# 欲處理：pandas/DataFrame\n",
        "# 機器學習：numpy/np.array\n",
        "import numpy as np\n",
        "from sklearn.model_selection import train_test_split\n",
        "x, y = df.drop([\"target\"], axis=1), df[\"target\"] #drop為給出新的表格\n",
        "x, y = np.array(x), np.array(y)\n",
        "x_train, x_test, y_train, y_test = train_test_split(x, y, test_size= 0.1) # 加上random_state=整數 可以讓隨機性固定 若給同大小的兩個list，可以切相同位置"
      ],
      "execution_count": null,
      "outputs": []
    },
    {
      "cell_type": "code",
      "metadata": {
        "id": "DtYqv4Z6pEvy",
        "outputId": "efaf505e-391b-44c7-e4d1-240d0d37e833",
        "colab": {
          "base_uri": "https://localhost:8080/",
          "height": 119
        }
      },
      "source": [
        "# 創造方法 使用決策樹：增加可解釋性，可以幫助人類進步\n",
        "from sklearn.tree import DecisionTreeRegressor\n",
        "reg = DecisionTreeRegressor(max_depth=5)\n",
        "reg.fit(x_train, y_train)"
      ],
      "execution_count": null,
      "outputs": [
        {
          "output_type": "execute_result",
          "data": {
            "text/plain": [
              "DecisionTreeRegressor(ccp_alpha=0.0, criterion='mse', max_depth=5,\n",
              "                      max_features=None, max_leaf_nodes=None,\n",
              "                      min_impurity_decrease=0.0, min_impurity_split=None,\n",
              "                      min_samples_leaf=1, min_samples_split=2,\n",
              "                      min_weight_fraction_leaf=0.0, presort='deprecated',\n",
              "                      random_state=None, splitter='best')"
            ]
          },
          "metadata": {
            "tags": []
          },
          "execution_count": 4
        }
      ]
    },
    {
      "cell_type": "code",
      "metadata": {
        "id": "PqRIeiXwq1oy",
        "outputId": "c2e83cdb-1338-494d-b3aa-5346217cd7e2",
        "colab": {
          "base_uri": "https://localhost:8080/",
          "height": 816
        }
      },
      "source": [
        "import graphviz\n",
        "from sklearn.tree import export_graphviz\n",
        "g = export_graphviz(reg, \n",
        "                    feature_names=boston[\"feature_names\"],\n",
        "                    filled=True)\n",
        "# mse(mean squared error)= （預測值-平均值）平方 加總再平均 越小則猜錯的機率越低  無統一標準較難區別程度 使用\"r2score\"\n",
        "\n",
        "graphviz.Source(g)"
      ],
      "execution_count": null,
      "outputs": [
        {
          "output_type": "execute_result",
          "data": {
            "text/plain": [
              "<graphviz.files.Source at 0x7f457d9c5cc0>"
            ],
            "image/svg+xml": "<?xml version=\"1.0\" encoding=\"UTF-8\" standalone=\"no\"?>\n<!DOCTYPE svg PUBLIC \"-//W3C//DTD SVG 1.1//EN\"\n \"http://www.w3.org/Graphics/SVG/1.1/DTD/svg11.dtd\">\n<!-- Generated by graphviz version 2.40.1 (20161225.0304)\n -->\n<!-- Title: Tree Pages: 1 -->\n<svg width=\"2200pt\" height=\"581pt\"\n viewBox=\"0.00 0.00 2200.00 581.00\" xmlns=\"http://www.w3.org/2000/svg\" xmlns:xlink=\"http://www.w3.org/1999/xlink\">\n<g id=\"graph0\" class=\"graph\" transform=\"scale(1 1) rotate(0) translate(4 577)\">\n<title>Tree</title>\n<polygon fill=\"#ffffff\" stroke=\"transparent\" points=\"-4,4 -4,-577 2196,-577 2196,4 -4,4\"/>\n<!-- 0 -->\n<g id=\"node1\" class=\"node\">\n<title>0</title>\n<polygon fill=\"#f7d6bf\" stroke=\"#000000\" points=\"1440.5,-573 1336.5,-573 1336.5,-505 1440.5,-505 1440.5,-573\"/>\n<text text-anchor=\"middle\" x=\"1388.5\" y=\"-557.8\" font-family=\"Times,serif\" font-size=\"14.00\" fill=\"#000000\">RM &lt;= 7.01</text>\n<text text-anchor=\"middle\" x=\"1388.5\" y=\"-542.8\" font-family=\"Times,serif\" font-size=\"14.00\" fill=\"#000000\">mse = 84.932</text>\n<text text-anchor=\"middle\" x=\"1388.5\" y=\"-527.8\" font-family=\"Times,serif\" font-size=\"14.00\" fill=\"#000000\">samples = 455</text>\n<text text-anchor=\"middle\" x=\"1388.5\" y=\"-512.8\" font-family=\"Times,serif\" font-size=\"14.00\" fill=\"#000000\">value = 22.589</text>\n</g>\n<!-- 1 -->\n<g id=\"node2\" class=\"node\">\n<title>1</title>\n<polygon fill=\"#f8deca\" stroke=\"#000000\" points=\"1101,-469 976,-469 976,-401 1101,-401 1101,-469\"/>\n<text text-anchor=\"middle\" x=\"1038.5\" y=\"-453.8\" font-family=\"Times,serif\" font-size=\"14.00\" fill=\"#000000\">LSTAT &lt;= 14.395</text>\n<text text-anchor=\"middle\" x=\"1038.5\" y=\"-438.8\" font-family=\"Times,serif\" font-size=\"14.00\" fill=\"#000000\">mse = 43.028</text>\n<text text-anchor=\"middle\" x=\"1038.5\" y=\"-423.8\" font-family=\"Times,serif\" font-size=\"14.00\" fill=\"#000000\">samples = 398</text>\n<text text-anchor=\"middle\" x=\"1038.5\" y=\"-408.8\" font-family=\"Times,serif\" font-size=\"14.00\" fill=\"#000000\">value = 20.26</text>\n</g>\n<!-- 0&#45;&gt;1 -->\n<g id=\"edge1\" class=\"edge\">\n<title>0&#45;&gt;1</title>\n<path fill=\"none\" stroke=\"#000000\" d=\"M1336.4794,-523.5424C1276.6746,-505.7719 1178.1236,-476.4882 1110.8607,-456.5015\"/>\n<polygon fill=\"#000000\" stroke=\"#000000\" points=\"1111.7547,-453.1159 1101.172,-453.6225 1109.7608,-459.826 1111.7547,-453.1159\"/>\n<text text-anchor=\"middle\" x=\"1113.0822\" y=\"-471.9031\" font-family=\"Times,serif\" font-size=\"14.00\" fill=\"#000000\">True</text>\n</g>\n<!-- 28 -->\n<g id=\"node29\" class=\"node\">\n<title>28</title>\n<polygon fill=\"#eca470\" stroke=\"#000000\" points=\"1682.5,-469 1578.5,-469 1578.5,-401 1682.5,-401 1682.5,-469\"/>\n<text text-anchor=\"middle\" x=\"1630.5\" y=\"-453.8\" font-family=\"Times,serif\" font-size=\"14.00\" fill=\"#000000\">RM &lt;= 7.437</text>\n<text text-anchor=\"middle\" x=\"1630.5\" y=\"-438.8\" font-family=\"Times,serif\" font-size=\"14.00\" fill=\"#000000\">mse = 75.251</text>\n<text text-anchor=\"middle\" x=\"1630.5\" y=\"-423.8\" font-family=\"Times,serif\" font-size=\"14.00\" fill=\"#000000\">samples = 57</text>\n<text text-anchor=\"middle\" x=\"1630.5\" y=\"-408.8\" font-family=\"Times,serif\" font-size=\"14.00\" fill=\"#000000\">value = 38.849</text>\n</g>\n<!-- 0&#45;&gt;28 -->\n<g id=\"edge28\" class=\"edge\">\n<title>0&#45;&gt;28</title>\n<path fill=\"none\" stroke=\"#000000\" d=\"M1440.7125,-516.5616C1478.4026,-500.3642 1529.4265,-478.4366 1569.077,-461.3967\"/>\n<polygon fill=\"#000000\" stroke=\"#000000\" points=\"1570.5755,-464.5622 1578.3811,-457.3982 1567.8116,-458.131 1570.5755,-464.5622\"/>\n<text text-anchor=\"middle\" x=\"1569.1195\" y=\"-476.9194\" font-family=\"Times,serif\" font-size=\"14.00\" fill=\"#000000\">False</text>\n</g>\n<!-- 2 -->\n<g id=\"node3\" class=\"node\">\n<title>2</title>\n<polygon fill=\"#f6d3ba\" stroke=\"#000000\" points=\"392.5,-365 288.5,-365 288.5,-297 392.5,-297 392.5,-365\"/>\n<text text-anchor=\"middle\" x=\"340.5\" y=\"-349.8\" font-family=\"Times,serif\" font-size=\"14.00\" fill=\"#000000\">DIS &lt;= 1.385</text>\n<text text-anchor=\"middle\" x=\"340.5\" y=\"-334.8\" font-family=\"Times,serif\" font-size=\"14.00\" fill=\"#000000\">mse = 28.333</text>\n<text text-anchor=\"middle\" x=\"340.5\" y=\"-319.8\" font-family=\"Times,serif\" font-size=\"14.00\" fill=\"#000000\">samples = 242</text>\n<text text-anchor=\"middle\" x=\"340.5\" y=\"-304.8\" font-family=\"Times,serif\" font-size=\"14.00\" fill=\"#000000\">value = 23.668</text>\n</g>\n<!-- 1&#45;&gt;2 -->\n<g id=\"edge2\" class=\"edge\">\n<title>1&#45;&gt;2</title>\n<path fill=\"none\" stroke=\"#000000\" d=\"M975.9429,-425.6792C843.211,-405.9025 534.7389,-359.941 402.5002,-340.2378\"/>\n<polygon fill=\"#000000\" stroke=\"#000000\" points=\"402.9366,-336.7643 392.5299,-338.7523 401.9049,-343.6879 402.9366,-336.7643\"/>\n</g>\n<!-- 13 -->\n<g id=\"node14\" class=\"node\">\n<title>13</title>\n<polygon fill=\"#fbeee4\" stroke=\"#000000\" points=\"1091.5,-365 985.5,-365 985.5,-297 1091.5,-297 1091.5,-365\"/>\n<text text-anchor=\"middle\" x=\"1038.5\" y=\"-349.8\" font-family=\"Times,serif\" font-size=\"14.00\" fill=\"#000000\">NOX &lt;= 0.607</text>\n<text text-anchor=\"middle\" x=\"1038.5\" y=\"-334.8\" font-family=\"Times,serif\" font-size=\"14.00\" fill=\"#000000\">mse = 19.856</text>\n<text text-anchor=\"middle\" x=\"1038.5\" y=\"-319.8\" font-family=\"Times,serif\" font-size=\"14.00\" fill=\"#000000\">samples = 156</text>\n<text text-anchor=\"middle\" x=\"1038.5\" y=\"-304.8\" font-family=\"Times,serif\" font-size=\"14.00\" fill=\"#000000\">value = 14.973</text>\n</g>\n<!-- 1&#45;&gt;13 -->\n<g id=\"edge13\" class=\"edge\">\n<title>1&#45;&gt;13</title>\n<path fill=\"none\" stroke=\"#000000\" d=\"M1038.5,-400.9465C1038.5,-392.776 1038.5,-383.9318 1038.5,-375.3697\"/>\n<polygon fill=\"#000000\" stroke=\"#000000\" points=\"1042.0001,-375.13 1038.5,-365.13 1035.0001,-375.13 1042.0001,-375.13\"/>\n</g>\n<!-- 3 -->\n<g id=\"node4\" class=\"node\">\n<title>3</title>\n<polygon fill=\"#e88f4f\" stroke=\"#000000\" points=\"210.5,-261 92.5,-261 92.5,-193 210.5,-193 210.5,-261\"/>\n<text text-anchor=\"middle\" x=\"151.5\" y=\"-245.8\" font-family=\"Times,serif\" font-size=\"14.00\" fill=\"#000000\">LSTAT &lt;= 10.83</text>\n<text text-anchor=\"middle\" x=\"151.5\" y=\"-230.8\" font-family=\"Times,serif\" font-size=\"14.00\" fill=\"#000000\">mse = 78.146</text>\n<text text-anchor=\"middle\" x=\"151.5\" y=\"-215.8\" font-family=\"Times,serif\" font-size=\"14.00\" fill=\"#000000\">samples = 5</text>\n<text text-anchor=\"middle\" x=\"151.5\" y=\"-200.8\" font-family=\"Times,serif\" font-size=\"14.00\" fill=\"#000000\">value = 45.58</text>\n</g>\n<!-- 2&#45;&gt;3 -->\n<g id=\"edge3\" class=\"edge\">\n<title>2&#45;&gt;3</title>\n<path fill=\"none\" stroke=\"#000000\" d=\"M288.3546,-302.3062C267.1336,-290.6291 242.3197,-276.9749 219.6924,-264.5238\"/>\n<polygon fill=\"#000000\" stroke=\"#000000\" points=\"221.2591,-261.3911 210.8106,-259.6365 217.8844,-267.5239 221.2591,-261.3911\"/>\n</g>\n<!-- 6 -->\n<g id=\"node7\" class=\"node\">\n<title>6</title>\n<polygon fill=\"#f6d4bc\" stroke=\"#000000\" points=\"392.5,-261 288.5,-261 288.5,-193 392.5,-193 392.5,-261\"/>\n<text text-anchor=\"middle\" x=\"340.5\" y=\"-245.8\" font-family=\"Times,serif\" font-size=\"14.00\" fill=\"#000000\">RM &lt;= 6.544</text>\n<text text-anchor=\"middle\" x=\"340.5\" y=\"-230.8\" font-family=\"Times,serif\" font-size=\"14.00\" fill=\"#000000\">mse = 16.939</text>\n<text text-anchor=\"middle\" x=\"340.5\" y=\"-215.8\" font-family=\"Times,serif\" font-size=\"14.00\" fill=\"#000000\">samples = 237</text>\n<text text-anchor=\"middle\" x=\"340.5\" y=\"-200.8\" font-family=\"Times,serif\" font-size=\"14.00\" fill=\"#000000\">value = 23.205</text>\n</g>\n<!-- 2&#45;&gt;6 -->\n<g id=\"edge6\" class=\"edge\">\n<title>2&#45;&gt;6</title>\n<path fill=\"none\" stroke=\"#000000\" d=\"M340.5,-296.9465C340.5,-288.776 340.5,-279.9318 340.5,-271.3697\"/>\n<polygon fill=\"#000000\" stroke=\"#000000\" points=\"344.0001,-271.13 340.5,-261.13 337.0001,-271.13 344.0001,-271.13\"/>\n</g>\n<!-- 4 -->\n<g id=\"node5\" class=\"node\">\n<title>4</title>\n<polygon fill=\"#e58139\" stroke=\"#000000\" points=\"89,-149.5 0,-149.5 0,-96.5 89,-96.5 89,-149.5\"/>\n<text text-anchor=\"middle\" x=\"44.5\" y=\"-134.3\" font-family=\"Times,serif\" font-size=\"14.00\" fill=\"#000000\">mse = 0.0</text>\n<text text-anchor=\"middle\" x=\"44.5\" y=\"-119.3\" font-family=\"Times,serif\" font-size=\"14.00\" fill=\"#000000\">samples = 4</text>\n<text text-anchor=\"middle\" x=\"44.5\" y=\"-104.3\" font-family=\"Times,serif\" font-size=\"14.00\" fill=\"#000000\">value = 50.0</text>\n</g>\n<!-- 3&#45;&gt;4 -->\n<g id=\"edge4\" class=\"edge\">\n<title>3&#45;&gt;4</title>\n<path fill=\"none\" stroke=\"#000000\" d=\"M116.4642,-192.9465C104.4516,-181.2707 91.0234,-168.219 79.0496,-156.5809\"/>\n<polygon fill=\"#000000\" stroke=\"#000000\" points=\"81.4182,-154.0022 71.8078,-149.5422 76.5393,-159.0218 81.4182,-154.0022\"/>\n</g>\n<!-- 5 -->\n<g id=\"node6\" class=\"node\">\n<title>5</title>\n<polygon fill=\"#f3c6a5\" stroke=\"#000000\" points=\"196,-149.5 107,-149.5 107,-96.5 196,-96.5 196,-149.5\"/>\n<text text-anchor=\"middle\" x=\"151.5\" y=\"-134.3\" font-family=\"Times,serif\" font-size=\"14.00\" fill=\"#000000\">mse = &#45;0.0</text>\n<text text-anchor=\"middle\" x=\"151.5\" y=\"-119.3\" font-family=\"Times,serif\" font-size=\"14.00\" fill=\"#000000\">samples = 1</text>\n<text text-anchor=\"middle\" x=\"151.5\" y=\"-104.3\" font-family=\"Times,serif\" font-size=\"14.00\" fill=\"#000000\">value = 27.9</text>\n</g>\n<!-- 3&#45;&gt;5 -->\n<g id=\"edge5\" class=\"edge\">\n<title>3&#45;&gt;5</title>\n<path fill=\"none\" stroke=\"#000000\" d=\"M151.5,-192.9465C151.5,-182.2621 151.5,-170.4254 151.5,-159.5742\"/>\n<polygon fill=\"#000000\" stroke=\"#000000\" points=\"155.0001,-159.5421 151.5,-149.5422 148.0001,-159.5422 155.0001,-159.5421\"/>\n</g>\n<!-- 7 -->\n<g id=\"node8\" class=\"node\">\n<title>7</title>\n<polygon fill=\"#f7d9c4\" stroke=\"#000000\" points=\"324.5,-157 214.5,-157 214.5,-89 324.5,-89 324.5,-157\"/>\n<text text-anchor=\"middle\" x=\"269.5\" y=\"-141.8\" font-family=\"Times,serif\" font-size=\"14.00\" fill=\"#000000\">LSTAT &lt;= 7.57</text>\n<text text-anchor=\"middle\" x=\"269.5\" y=\"-126.8\" font-family=\"Times,serif\" font-size=\"14.00\" fill=\"#000000\">mse = 8.593</text>\n<text text-anchor=\"middle\" x=\"269.5\" y=\"-111.8\" font-family=\"Times,serif\" font-size=\"14.00\" fill=\"#000000\">samples = 177</text>\n<text text-anchor=\"middle\" x=\"269.5\" y=\"-96.8\" font-family=\"Times,serif\" font-size=\"14.00\" fill=\"#000000\">value = 21.656</text>\n</g>\n<!-- 6&#45;&gt;7 -->\n<g id=\"edge7\" class=\"edge\">\n<title>6&#45;&gt;7</title>\n<path fill=\"none\" stroke=\"#000000\" d=\"M317.2519,-192.9465C311.245,-184.1475 304.7045,-174.5672 298.4457,-165.3993\"/>\n<polygon fill=\"#000000\" stroke=\"#000000\" points=\"301.3293,-163.4155 292.8003,-157.13 295.548,-167.3623 301.3293,-163.4155\"/>\n</g>\n<!-- 10 -->\n<g id=\"node11\" class=\"node\">\n<title>10</title>\n<polygon fill=\"#f3c6a6\" stroke=\"#000000\" points=\"460.5,-157 342.5,-157 342.5,-89 460.5,-89 460.5,-157\"/>\n<text text-anchor=\"middle\" x=\"401.5\" y=\"-141.8\" font-family=\"Times,serif\" font-size=\"14.00\" fill=\"#000000\">LSTAT &lt;= 5.195</text>\n<text text-anchor=\"middle\" x=\"401.5\" y=\"-126.8\" font-family=\"Times,serif\" font-size=\"14.00\" fill=\"#000000\">mse = 13.582</text>\n<text text-anchor=\"middle\" x=\"401.5\" y=\"-111.8\" font-family=\"Times,serif\" font-size=\"14.00\" fill=\"#000000\">samples = 60</text>\n<text text-anchor=\"middle\" x=\"401.5\" y=\"-96.8\" font-family=\"Times,serif\" font-size=\"14.00\" fill=\"#000000\">value = 27.777</text>\n</g>\n<!-- 6&#45;&gt;10 -->\n<g id=\"edge10\" class=\"edge\">\n<title>6&#45;&gt;10</title>\n<path fill=\"none\" stroke=\"#000000\" d=\"M360.4737,-192.9465C365.5293,-184.3271 371.0247,-174.9579 376.3017,-165.9611\"/>\n<polygon fill=\"#000000\" stroke=\"#000000\" points=\"379.4411,-167.5265 381.4814,-157.13 373.4031,-163.985 379.4411,-167.5265\"/>\n</g>\n<!-- 8 -->\n<g id=\"node9\" class=\"node\">\n<title>8</title>\n<polygon fill=\"#f6d2b8\" stroke=\"#000000\" points=\"199.5,-53 95.5,-53 95.5,0 199.5,0 199.5,-53\"/>\n<text text-anchor=\"middle\" x=\"147.5\" y=\"-37.8\" font-family=\"Times,serif\" font-size=\"14.00\" fill=\"#000000\">mse = 3.24</text>\n<text text-anchor=\"middle\" x=\"147.5\" y=\"-22.8\" font-family=\"Times,serif\" font-size=\"14.00\" fill=\"#000000\">samples = 39</text>\n<text text-anchor=\"middle\" x=\"147.5\" y=\"-7.8\" font-family=\"Times,serif\" font-size=\"14.00\" fill=\"#000000\">value = 23.967</text>\n</g>\n<!-- 7&#45;&gt;8 -->\n<g id=\"edge8\" class=\"edge\">\n<title>7&#45;&gt;8</title>\n<path fill=\"none\" stroke=\"#000000\" d=\"M226.4874,-88.9777C214.4476,-79.4545 201.3812,-69.1191 189.4065,-59.6473\"/>\n<polygon fill=\"#000000\" stroke=\"#000000\" points=\"191.3311,-56.7072 181.3167,-53.2485 186.9885,-62.1973 191.3311,-56.7072\"/>\n</g>\n<!-- 9 -->\n<g id=\"node10\" class=\"node\">\n<title>9</title>\n<polygon fill=\"#f8dbc7\" stroke=\"#000000\" points=\"321.5,-53 217.5,-53 217.5,0 321.5,0 321.5,-53\"/>\n<text text-anchor=\"middle\" x=\"269.5\" y=\"-37.8\" font-family=\"Times,serif\" font-size=\"14.00\" fill=\"#000000\">mse = 8.17</text>\n<text text-anchor=\"middle\" x=\"269.5\" y=\"-22.8\" font-family=\"Times,serif\" font-size=\"14.00\" fill=\"#000000\">samples = 138</text>\n<text text-anchor=\"middle\" x=\"269.5\" y=\"-7.8\" font-family=\"Times,serif\" font-size=\"14.00\" fill=\"#000000\">value = 21.003</text>\n</g>\n<!-- 7&#45;&gt;9 -->\n<g id=\"edge9\" class=\"edge\">\n<title>7&#45;&gt;9</title>\n<path fill=\"none\" stroke=\"#000000\" d=\"M269.5,-88.9777C269.5,-80.7364 269.5,-71.887 269.5,-63.5153\"/>\n<polygon fill=\"#000000\" stroke=\"#000000\" points=\"273.0001,-63.2484 269.5,-53.2485 266.0001,-63.2485 273.0001,-63.2484\"/>\n</g>\n<!-- 11 -->\n<g id=\"node12\" class=\"node\">\n<title>11</title>\n<polygon fill=\"#f1bd98\" stroke=\"#000000\" points=\"435,-53 340,-53 340,0 435,0 435,-53\"/>\n<text text-anchor=\"middle\" x=\"387.5\" y=\"-37.8\" font-family=\"Times,serif\" font-size=\"14.00\" fill=\"#000000\">mse = 11.889</text>\n<text text-anchor=\"middle\" x=\"387.5\" y=\"-22.8\" font-family=\"Times,serif\" font-size=\"14.00\" fill=\"#000000\">samples = 21</text>\n<text text-anchor=\"middle\" x=\"387.5\" y=\"-7.8\" font-family=\"Times,serif\" font-size=\"14.00\" fill=\"#000000\">value = 30.6</text>\n</g>\n<!-- 10&#45;&gt;11 -->\n<g id=\"edge11\" class=\"edge\">\n<title>10&#45;&gt;11</title>\n<path fill=\"none\" stroke=\"#000000\" d=\"M396.5641,-88.9777C395.3552,-80.6449 394.0561,-71.6903 392.8296,-63.2364\"/>\n<polygon fill=\"#000000\" stroke=\"#000000\" points=\"396.2802,-62.6423 391.3806,-53.2485 389.3527,-63.6474 396.2802,-62.6423\"/>\n</g>\n<!-- 12 -->\n<g id=\"node13\" class=\"node\">\n<title>12</title>\n<polygon fill=\"#f4cbad\" stroke=\"#000000\" points=\"557.5,-53 453.5,-53 453.5,0 557.5,0 557.5,-53\"/>\n<text text-anchor=\"middle\" x=\"505.5\" y=\"-37.8\" font-family=\"Times,serif\" font-size=\"14.00\" fill=\"#000000\">mse = 7.891</text>\n<text text-anchor=\"middle\" x=\"505.5\" y=\"-22.8\" font-family=\"Times,serif\" font-size=\"14.00\" fill=\"#000000\">samples = 39</text>\n<text text-anchor=\"middle\" x=\"505.5\" y=\"-7.8\" font-family=\"Times,serif\" font-size=\"14.00\" fill=\"#000000\">value = 26.256</text>\n</g>\n<!-- 10&#45;&gt;12 -->\n<g id=\"edge12\" class=\"edge\">\n<title>10&#45;&gt;12</title>\n<path fill=\"none\" stroke=\"#000000\" d=\"M438.1665,-88.9777C448.2325,-79.6376 459.1404,-69.5163 469.1865,-60.1947\"/>\n<polygon fill=\"#000000\" stroke=\"#000000\" points=\"471.7228,-62.616 476.6726,-53.2485 466.9615,-57.4847 471.7228,-62.616\"/>\n</g>\n<!-- 14 -->\n<g id=\"node15\" class=\"node\">\n<title>14</title>\n<polygon fill=\"#f9e4d5\" stroke=\"#000000\" points=\"980,-261 869,-261 869,-193 980,-193 980,-261\"/>\n<text text-anchor=\"middle\" x=\"924.5\" y=\"-245.8\" font-family=\"Times,serif\" font-size=\"14.00\" fill=\"#000000\">CRIM &lt;= 0.593</text>\n<text text-anchor=\"middle\" x=\"924.5\" y=\"-230.8\" font-family=\"Times,serif\" font-size=\"14.00\" fill=\"#000000\">mse = 12.417</text>\n<text text-anchor=\"middle\" x=\"924.5\" y=\"-215.8\" font-family=\"Times,serif\" font-size=\"14.00\" fill=\"#000000\">samples = 63</text>\n<text text-anchor=\"middle\" x=\"924.5\" y=\"-200.8\" font-family=\"Times,serif\" font-size=\"14.00\" fill=\"#000000\">value = 18.108</text>\n</g>\n<!-- 13&#45;&gt;14 -->\n<g id=\"edge14\" class=\"edge\">\n<title>13&#45;&gt;14</title>\n<path fill=\"none\" stroke=\"#000000\" d=\"M1001.1721,-296.9465C991.035,-287.6986 979.9517,-277.5876 969.4417,-267.9994\"/>\n<polygon fill=\"#000000\" stroke=\"#000000\" points=\"971.6583,-265.284 961.9117,-261.13 966.9405,-270.4553 971.6583,-265.284\"/>\n</g>\n<!-- 21 -->\n<g id=\"node22\" class=\"node\">\n<title>21</title>\n<polygon fill=\"#fdf5ef\" stroke=\"#000000\" points=\"1215,-261 1090,-261 1090,-193 1215,-193 1215,-261\"/>\n<text text-anchor=\"middle\" x=\"1152.5\" y=\"-245.8\" font-family=\"Times,serif\" font-size=\"14.00\" fill=\"#000000\">LSTAT &lt;= 19.645</text>\n<text text-anchor=\"middle\" x=\"1152.5\" y=\"-230.8\" font-family=\"Times,serif\" font-size=\"14.00\" fill=\"#000000\">mse = 13.729</text>\n<text text-anchor=\"middle\" x=\"1152.5\" y=\"-215.8\" font-family=\"Times,serif\" font-size=\"14.00\" fill=\"#000000\">samples = 93</text>\n<text text-anchor=\"middle\" x=\"1152.5\" y=\"-200.8\" font-family=\"Times,serif\" font-size=\"14.00\" fill=\"#000000\">value = 12.849</text>\n</g>\n<!-- 13&#45;&gt;21 -->\n<g id=\"edge21\" class=\"edge\">\n<title>13&#45;&gt;21</title>\n<path fill=\"none\" stroke=\"#000000\" d=\"M1075.8279,-296.9465C1085.965,-287.6986 1097.0483,-277.5876 1107.5583,-267.9994\"/>\n<polygon fill=\"#000000\" stroke=\"#000000\" points=\"1110.0595,-270.4553 1115.0883,-261.13 1105.3417,-265.284 1110.0595,-270.4553\"/>\n</g>\n<!-- 15 -->\n<g id=\"node16\" class=\"node\">\n<title>15</title>\n<polygon fill=\"#f8dfcd\" stroke=\"#000000\" points=\"799,-157 688,-157 688,-89 799,-89 799,-157\"/>\n<text text-anchor=\"middle\" x=\"743.5\" y=\"-141.8\" font-family=\"Times,serif\" font-size=\"14.00\" fill=\"#000000\">CRIM &lt;= 0.147</text>\n<text text-anchor=\"middle\" x=\"743.5\" y=\"-126.8\" font-family=\"Times,serif\" font-size=\"14.00\" fill=\"#000000\">mse = 7.228</text>\n<text text-anchor=\"middle\" x=\"743.5\" y=\"-111.8\" font-family=\"Times,serif\" font-size=\"14.00\" fill=\"#000000\">samples = 36</text>\n<text text-anchor=\"middle\" x=\"743.5\" y=\"-96.8\" font-family=\"Times,serif\" font-size=\"14.00\" fill=\"#000000\">value = 19.675</text>\n</g>\n<!-- 14&#45;&gt;15 -->\n<g id=\"edge15\" class=\"edge\">\n<title>14&#45;&gt;15</title>\n<path fill=\"none\" stroke=\"#000000\" d=\"M868.7171,-194.948C849.4445,-183.8742 827.6961,-171.3779 807.7972,-159.9442\"/>\n<polygon fill=\"#000000\" stroke=\"#000000\" points=\"809.513,-156.8935 799.0987,-154.9462 806.0256,-162.963 809.513,-156.8935\"/>\n</g>\n<!-- 18 -->\n<g id=\"node19\" class=\"node\">\n<title>18</title>\n<polygon fill=\"#fbebdf\" stroke=\"#000000\" points=\"976.5,-157 872.5,-157 872.5,-89 976.5,-89 976.5,-157\"/>\n<text text-anchor=\"middle\" x=\"924.5\" y=\"-141.8\" font-family=\"Times,serif\" font-size=\"14.00\" fill=\"#000000\">RM &lt;= 6.843</text>\n<text text-anchor=\"middle\" x=\"924.5\" y=\"-126.8\" font-family=\"Times,serif\" font-size=\"14.00\" fill=\"#000000\">mse = 11.696</text>\n<text text-anchor=\"middle\" x=\"924.5\" y=\"-111.8\" font-family=\"Times,serif\" font-size=\"14.00\" fill=\"#000000\">samples = 27</text>\n<text text-anchor=\"middle\" x=\"924.5\" y=\"-96.8\" font-family=\"Times,serif\" font-size=\"14.00\" fill=\"#000000\">value = 16.019</text>\n</g>\n<!-- 14&#45;&gt;18 -->\n<g id=\"edge18\" class=\"edge\">\n<title>14&#45;&gt;18</title>\n<path fill=\"none\" stroke=\"#000000\" d=\"M924.5,-192.9465C924.5,-184.776 924.5,-175.9318 924.5,-167.3697\"/>\n<polygon fill=\"#000000\" stroke=\"#000000\" points=\"928.0001,-167.13 924.5,-157.13 921.0001,-167.13 928.0001,-167.13\"/>\n</g>\n<!-- 16 -->\n<g id=\"node17\" class=\"node\">\n<title>16</title>\n<polygon fill=\"#f7d9c4\" stroke=\"#000000\" points=\"673,-53 576,-53 576,0 673,0 673,-53\"/>\n<text text-anchor=\"middle\" x=\"624.5\" y=\"-37.8\" font-family=\"Times,serif\" font-size=\"14.00\" fill=\"#000000\">mse = 6.034</text>\n<text text-anchor=\"middle\" x=\"624.5\" y=\"-22.8\" font-family=\"Times,serif\" font-size=\"14.00\" fill=\"#000000\">samples = 10</text>\n<text text-anchor=\"middle\" x=\"624.5\" y=\"-7.8\" font-family=\"Times,serif\" font-size=\"14.00\" fill=\"#000000\">value = 21.66</text>\n</g>\n<!-- 15&#45;&gt;16 -->\n<g id=\"edge16\" class=\"edge\">\n<title>15&#45;&gt;16</title>\n<path fill=\"none\" stroke=\"#000000\" d=\"M701.5451,-88.9777C689.8014,-79.4545 677.0562,-69.1191 665.376,-59.6473\"/>\n<polygon fill=\"#000000\" stroke=\"#000000\" points=\"667.4568,-56.8286 657.4852,-53.2485 663.0478,-62.2656 667.4568,-56.8286\"/>\n</g>\n<!-- 17 -->\n<g id=\"node18\" class=\"node\">\n<title>17</title>\n<polygon fill=\"#f9e2d1\" stroke=\"#000000\" points=\"795.5,-53 691.5,-53 691.5,0 795.5,0 795.5,-53\"/>\n<text text-anchor=\"middle\" x=\"743.5\" y=\"-37.8\" font-family=\"Times,serif\" font-size=\"14.00\" fill=\"#000000\">mse = 5.589</text>\n<text text-anchor=\"middle\" x=\"743.5\" y=\"-22.8\" font-family=\"Times,serif\" font-size=\"14.00\" fill=\"#000000\">samples = 26</text>\n<text text-anchor=\"middle\" x=\"743.5\" y=\"-7.8\" font-family=\"Times,serif\" font-size=\"14.00\" fill=\"#000000\">value = 18.912</text>\n</g>\n<!-- 15&#45;&gt;17 -->\n<g id=\"edge17\" class=\"edge\">\n<title>15&#45;&gt;17</title>\n<path fill=\"none\" stroke=\"#000000\" d=\"M743.5,-88.9777C743.5,-80.7364 743.5,-71.887 743.5,-63.5153\"/>\n<polygon fill=\"#000000\" stroke=\"#000000\" points=\"747.0001,-63.2484 743.5,-53.2485 740.0001,-63.2485 747.0001,-63.2484\"/>\n</g>\n<!-- 19 -->\n<g id=\"node20\" class=\"node\">\n<title>19</title>\n<polygon fill=\"#fbece1\" stroke=\"#000000\" points=\"917.5,-53 813.5,-53 813.5,0 917.5,0 917.5,-53\"/>\n<text text-anchor=\"middle\" x=\"865.5\" y=\"-37.8\" font-family=\"Times,serif\" font-size=\"14.00\" fill=\"#000000\">mse = 6.881</text>\n<text text-anchor=\"middle\" x=\"865.5\" y=\"-22.8\" font-family=\"Times,serif\" font-size=\"14.00\" fill=\"#000000\">samples = 26</text>\n<text text-anchor=\"middle\" x=\"865.5\" y=\"-7.8\" font-family=\"Times,serif\" font-size=\"14.00\" fill=\"#000000\">value = 15.577</text>\n</g>\n<!-- 18&#45;&gt;19 -->\n<g id=\"edge19\" class=\"edge\">\n<title>18&#45;&gt;19</title>\n<path fill=\"none\" stroke=\"#000000\" d=\"M903.6988,-88.9777C898.3242,-80.187 892.5265,-70.7044 887.1115,-61.8477\"/>\n<polygon fill=\"#000000\" stroke=\"#000000\" points=\"890.0564,-59.9545 881.854,-53.2485 884.0842,-63.6059 890.0564,-59.9545\"/>\n</g>\n<!-- 20 -->\n<g id=\"node21\" class=\"node\">\n<title>20</title>\n<polygon fill=\"#f3c7a7\" stroke=\"#000000\" points=\"1025,-53 936,-53 936,0 1025,0 1025,-53\"/>\n<text text-anchor=\"middle\" x=\"980.5\" y=\"-37.8\" font-family=\"Times,serif\" font-size=\"14.00\" fill=\"#000000\">mse = &#45;0.0</text>\n<text text-anchor=\"middle\" x=\"980.5\" y=\"-22.8\" font-family=\"Times,serif\" font-size=\"14.00\" fill=\"#000000\">samples = 1</text>\n<text text-anchor=\"middle\" x=\"980.5\" y=\"-7.8\" font-family=\"Times,serif\" font-size=\"14.00\" fill=\"#000000\">value = 27.5</text>\n</g>\n<!-- 18&#45;&gt;20 -->\n<g id=\"edge20\" class=\"edge\">\n<title>18&#45;&gt;20</title>\n<path fill=\"none\" stroke=\"#000000\" d=\"M944.2435,-88.9777C949.2917,-80.2786 954.7331,-70.9018 959.8266,-62.1247\"/>\n<polygon fill=\"#000000\" stroke=\"#000000\" points=\"962.9855,-63.6544 964.9776,-53.2485 956.9311,-60.1409 962.9855,-63.6544\"/>\n</g>\n<!-- 22 -->\n<g id=\"node23\" class=\"node\">\n<title>22</title>\n<polygon fill=\"#fbede2\" stroke=\"#000000\" points=\"1212,-157 1093,-157 1093,-89 1212,-89 1212,-157\"/>\n<text text-anchor=\"middle\" x=\"1152.5\" y=\"-141.8\" font-family=\"Times,serif\" font-size=\"14.00\" fill=\"#000000\">CRIM &lt;= 12.224</text>\n<text text-anchor=\"middle\" x=\"1152.5\" y=\"-126.8\" font-family=\"Times,serif\" font-size=\"14.00\" fill=\"#000000\">mse = 6.422</text>\n<text text-anchor=\"middle\" x=\"1152.5\" y=\"-111.8\" font-family=\"Times,serif\" font-size=\"14.00\" fill=\"#000000\">samples = 45</text>\n<text text-anchor=\"middle\" x=\"1152.5\" y=\"-96.8\" font-family=\"Times,serif\" font-size=\"14.00\" fill=\"#000000\">value = 15.396</text>\n</g>\n<!-- 21&#45;&gt;22 -->\n<g id=\"edge22\" class=\"edge\">\n<title>21&#45;&gt;22</title>\n<path fill=\"none\" stroke=\"#000000\" d=\"M1152.5,-192.9465C1152.5,-184.776 1152.5,-175.9318 1152.5,-167.3697\"/>\n<polygon fill=\"#000000\" stroke=\"#000000\" points=\"1156.0001,-167.13 1152.5,-157.13 1149.0001,-167.13 1156.0001,-167.13\"/>\n</g>\n<!-- 25 -->\n<g id=\"node26\" class=\"node\">\n<title>25</title>\n<polygon fill=\"#fefcfa\" stroke=\"#000000\" points=\"1391.5,-157 1287.5,-157 1287.5,-89 1391.5,-89 1391.5,-157\"/>\n<text text-anchor=\"middle\" x=\"1339.5\" y=\"-141.8\" font-family=\"Times,serif\" font-size=\"14.00\" fill=\"#000000\">TAX &lt;= 551.5</text>\n<text text-anchor=\"middle\" x=\"1339.5\" y=\"-126.8\" font-family=\"Times,serif\" font-size=\"14.00\" fill=\"#000000\">mse = 8.804</text>\n<text text-anchor=\"middle\" x=\"1339.5\" y=\"-111.8\" font-family=\"Times,serif\" font-size=\"14.00\" fill=\"#000000\">samples = 48</text>\n<text text-anchor=\"middle\" x=\"1339.5\" y=\"-96.8\" font-family=\"Times,serif\" font-size=\"14.00\" fill=\"#000000\">value = 10.462</text>\n</g>\n<!-- 21&#45;&gt;25 -->\n<g id=\"edge25\" class=\"edge\">\n<title>21&#45;&gt;25</title>\n<path fill=\"none\" stroke=\"#000000\" d=\"M1213.7308,-192.9465C1234.4223,-181.4389 1257.517,-168.5948 1278.2128,-157.0849\"/>\n<polygon fill=\"#000000\" stroke=\"#000000\" points=\"1280.1893,-159.9906 1287.2275,-152.0713 1276.787,-153.873 1280.1893,-159.9906\"/>\n</g>\n<!-- 23 -->\n<g id=\"node24\" class=\"node\">\n<title>23</title>\n<polygon fill=\"#fbece0\" stroke=\"#000000\" points=\"1147.5,-53 1043.5,-53 1043.5,0 1147.5,0 1147.5,-53\"/>\n<text text-anchor=\"middle\" x=\"1095.5\" y=\"-37.8\" font-family=\"Times,serif\" font-size=\"14.00\" fill=\"#000000\">mse = 5.286</text>\n<text text-anchor=\"middle\" x=\"1095.5\" y=\"-22.8\" font-family=\"Times,serif\" font-size=\"14.00\" fill=\"#000000\">samples = 41</text>\n<text text-anchor=\"middle\" x=\"1095.5\" y=\"-7.8\" font-family=\"Times,serif\" font-size=\"14.00\" fill=\"#000000\">value = 15.783</text>\n</g>\n<!-- 22&#45;&gt;23 -->\n<g id=\"edge23\" class=\"edge\">\n<title>22&#45;&gt;23</title>\n<path fill=\"none\" stroke=\"#000000\" d=\"M1132.4039,-88.9777C1127.2656,-80.2786 1121.727,-70.9018 1116.5425,-62.1247\"/>\n<polygon fill=\"#000000\" stroke=\"#000000\" points=\"1119.399,-60.0786 1111.2996,-53.2485 1113.3719,-63.6387 1119.399,-60.0786\"/>\n</g>\n<!-- 24 -->\n<g id=\"node25\" class=\"node\">\n<title>24</title>\n<polygon fill=\"#fef9f6\" stroke=\"#000000\" points=\"1269.5,-53 1165.5,-53 1165.5,0 1269.5,0 1269.5,-53\"/>\n<text text-anchor=\"middle\" x=\"1217.5\" y=\"-37.8\" font-family=\"Times,serif\" font-size=\"14.00\" fill=\"#000000\">mse = 0.757</text>\n<text text-anchor=\"middle\" x=\"1217.5\" y=\"-22.8\" font-family=\"Times,serif\" font-size=\"14.00\" fill=\"#000000\">samples = 4</text>\n<text text-anchor=\"middle\" x=\"1217.5\" y=\"-7.8\" font-family=\"Times,serif\" font-size=\"14.00\" fill=\"#000000\">value = 11.425</text>\n</g>\n<!-- 22&#45;&gt;24 -->\n<g id=\"edge24\" class=\"edge\">\n<title>22&#45;&gt;24</title>\n<path fill=\"none\" stroke=\"#000000\" d=\"M1175.4166,-88.9777C1181.3994,-80.0954 1187.8582,-70.5067 1193.877,-61.5711\"/>\n<polygon fill=\"#000000\" stroke=\"#000000\" points=\"1196.7991,-63.4978 1199.4829,-53.2485 1190.9933,-59.5871 1196.7991,-63.4978\"/>\n</g>\n<!-- 26 -->\n<g id=\"node27\" class=\"node\">\n<title>26</title>\n<polygon fill=\"#fcefe6\" stroke=\"#000000\" points=\"1391.5,-53 1287.5,-53 1287.5,0 1391.5,0 1391.5,-53\"/>\n<text text-anchor=\"middle\" x=\"1339.5\" y=\"-37.8\" font-family=\"Times,serif\" font-size=\"14.00\" fill=\"#000000\">mse = 2.462</text>\n<text text-anchor=\"middle\" x=\"1339.5\" y=\"-22.8\" font-family=\"Times,serif\" font-size=\"14.00\" fill=\"#000000\">samples = 9</text>\n<text text-anchor=\"middle\" x=\"1339.5\" y=\"-7.8\" font-family=\"Times,serif\" font-size=\"14.00\" fill=\"#000000\">value = 14.533</text>\n</g>\n<!-- 25&#45;&gt;26 -->\n<g id=\"edge26\" class=\"edge\">\n<title>25&#45;&gt;26</title>\n<path fill=\"none\" stroke=\"#000000\" d=\"M1339.5,-88.9777C1339.5,-80.7364 1339.5,-71.887 1339.5,-63.5153\"/>\n<polygon fill=\"#000000\" stroke=\"#000000\" points=\"1343.0001,-63.2484 1339.5,-53.2485 1336.0001,-63.2485 1343.0001,-63.2484\"/>\n</g>\n<!-- 27 -->\n<g id=\"node28\" class=\"node\">\n<title>27</title>\n<polygon fill=\"#ffffff\" stroke=\"#000000\" points=\"1507,-53 1410,-53 1410,0 1507,0 1507,-53\"/>\n<text text-anchor=\"middle\" x=\"1458.5\" y=\"-37.8\" font-family=\"Times,serif\" font-size=\"14.00\" fill=\"#000000\">mse = 5.561</text>\n<text text-anchor=\"middle\" x=\"1458.5\" y=\"-22.8\" font-family=\"Times,serif\" font-size=\"14.00\" fill=\"#000000\">samples = 39</text>\n<text text-anchor=\"middle\" x=\"1458.5\" y=\"-7.8\" font-family=\"Times,serif\" font-size=\"14.00\" fill=\"#000000\">value = 9.523</text>\n</g>\n<!-- 25&#45;&gt;27 -->\n<g id=\"edge27\" class=\"edge\">\n<title>25&#45;&gt;27</title>\n<path fill=\"none\" stroke=\"#000000\" d=\"M1381.4549,-88.9777C1393.1986,-79.4545 1405.9438,-69.1191 1417.624,-59.6473\"/>\n<polygon fill=\"#000000\" stroke=\"#000000\" points=\"1419.9522,-62.2656 1425.5148,-53.2485 1415.5432,-56.8286 1419.9522,-62.2656\"/>\n</g>\n<!-- 29 -->\n<g id=\"node30\" class=\"node\">\n<title>29</title>\n<polygon fill=\"#f0b78d\" stroke=\"#000000\" points=\"1683.5,-365 1577.5,-365 1577.5,-297 1683.5,-297 1683.5,-365\"/>\n<text text-anchor=\"middle\" x=\"1630.5\" y=\"-349.8\" font-family=\"Times,serif\" font-size=\"14.00\" fill=\"#000000\">NOX &lt;= 0.659</text>\n<text text-anchor=\"middle\" x=\"1630.5\" y=\"-334.8\" font-family=\"Times,serif\" font-size=\"14.00\" fill=\"#000000\">mse = 36.505</text>\n<text text-anchor=\"middle\" x=\"1630.5\" y=\"-319.8\" font-family=\"Times,serif\" font-size=\"14.00\" fill=\"#000000\">samples = 29</text>\n<text text-anchor=\"middle\" x=\"1630.5\" y=\"-304.8\" font-family=\"Times,serif\" font-size=\"14.00\" fill=\"#000000\">value = 32.728</text>\n</g>\n<!-- 28&#45;&gt;29 -->\n<g id=\"edge29\" class=\"edge\">\n<title>28&#45;&gt;29</title>\n<path fill=\"none\" stroke=\"#000000\" d=\"M1630.5,-400.9465C1630.5,-392.776 1630.5,-383.9318 1630.5,-375.3697\"/>\n<polygon fill=\"#000000\" stroke=\"#000000\" points=\"1634.0001,-375.13 1630.5,-365.13 1627.0001,-375.13 1634.0001,-375.13\"/>\n</g>\n<!-- 38 -->\n<g id=\"node39\" class=\"node\">\n<title>38</title>\n<polygon fill=\"#e89051\" stroke=\"#000000\" points=\"1966,-365 1855,-365 1855,-297 1966,-297 1966,-365\"/>\n<text text-anchor=\"middle\" x=\"1910.5\" y=\"-349.8\" font-family=\"Times,serif\" font-size=\"14.00\" fill=\"#000000\">CRIM &lt;= 2.742</text>\n<text text-anchor=\"middle\" x=\"1910.5\" y=\"-334.8\" font-family=\"Times,serif\" font-size=\"14.00\" fill=\"#000000\">mse = 36.37</text>\n<text text-anchor=\"middle\" x=\"1910.5\" y=\"-319.8\" font-family=\"Times,serif\" font-size=\"14.00\" fill=\"#000000\">samples = 28</text>\n<text text-anchor=\"middle\" x=\"1910.5\" y=\"-304.8\" font-family=\"Times,serif\" font-size=\"14.00\" fill=\"#000000\">value = 45.189</text>\n</g>\n<!-- 28&#45;&gt;38 -->\n<g id=\"edge38\" class=\"edge\">\n<title>28&#45;&gt;38</title>\n<path fill=\"none\" stroke=\"#000000\" d=\"M1682.5096,-415.6821C1728.4726,-398.6102 1795.7145,-373.6346 1845.2691,-355.2286\"/>\n<polygon fill=\"#000000\" stroke=\"#000000\" points=\"1846.777,-358.4022 1854.9326,-351.6393 1844.3397,-351.8403 1846.777,-358.4022\"/>\n</g>\n<!-- 30 -->\n<g id=\"node31\" class=\"node\">\n<title>30</title>\n<polygon fill=\"#efb388\" stroke=\"#000000\" points=\"1623.5,-261 1519.5,-261 1519.5,-193 1623.5,-193 1623.5,-261\"/>\n<text text-anchor=\"middle\" x=\"1571.5\" y=\"-245.8\" font-family=\"Times,serif\" font-size=\"14.00\" fill=\"#000000\">DIS &lt;= 1.549</text>\n<text text-anchor=\"middle\" x=\"1571.5\" y=\"-230.8\" font-family=\"Times,serif\" font-size=\"14.00\" fill=\"#000000\">mse = 17.854</text>\n<text text-anchor=\"middle\" x=\"1571.5\" y=\"-215.8\" font-family=\"Times,serif\" font-size=\"14.00\" fill=\"#000000\">samples = 27</text>\n<text text-anchor=\"middle\" x=\"1571.5\" y=\"-200.8\" font-family=\"Times,serif\" font-size=\"14.00\" fill=\"#000000\">value = 33.937</text>\n</g>\n<!-- 29&#45;&gt;30 -->\n<g id=\"edge30\" class=\"edge\">\n<title>29&#45;&gt;30</title>\n<path fill=\"none\" stroke=\"#000000\" d=\"M1611.1812,-296.9465C1606.2913,-288.3271 1600.9761,-278.9579 1595.8722,-269.9611\"/>\n<polygon fill=\"#000000\" stroke=\"#000000\" points=\"1598.8408,-268.1008 1590.8622,-261.13 1592.7524,-271.5549 1598.8408,-268.1008\"/>\n</g>\n<!-- 35 -->\n<g id=\"node36\" class=\"node\">\n<title>35</title>\n<polygon fill=\"#fbeadd\" stroke=\"#000000\" points=\"1739,-261 1642,-261 1642,-193 1739,-193 1739,-261\"/>\n<text text-anchor=\"middle\" x=\"1690.5\" y=\"-245.8\" font-family=\"Times,serif\" font-size=\"14.00\" fill=\"#000000\">RM &lt;= 7.353</text>\n<text text-anchor=\"middle\" x=\"1690.5\" y=\"-230.8\" font-family=\"Times,serif\" font-size=\"14.00\" fill=\"#000000\">mse = 1.96</text>\n<text text-anchor=\"middle\" x=\"1690.5\" y=\"-215.8\" font-family=\"Times,serif\" font-size=\"14.00\" fill=\"#000000\">samples = 2</text>\n<text text-anchor=\"middle\" x=\"1690.5\" y=\"-200.8\" font-family=\"Times,serif\" font-size=\"14.00\" fill=\"#000000\">value = 16.4</text>\n</g>\n<!-- 29&#45;&gt;35 -->\n<g id=\"edge35\" class=\"edge\">\n<title>29&#45;&gt;35</title>\n<path fill=\"none\" stroke=\"#000000\" d=\"M1650.1462,-296.9465C1655.119,-288.3271 1660.5243,-278.9579 1665.7148,-269.9611\"/>\n<polygon fill=\"#000000\" stroke=\"#000000\" points=\"1668.844,-271.5409 1670.8096,-261.13 1662.7807,-268.0428 1668.844,-271.5409\"/>\n</g>\n<!-- 31 -->\n<g id=\"node32\" class=\"node\">\n<title>31</title>\n<polygon fill=\"#e58139\" stroke=\"#000000\" points=\"1503,-149.5 1414,-149.5 1414,-96.5 1503,-96.5 1503,-149.5\"/>\n<text text-anchor=\"middle\" x=\"1458.5\" y=\"-134.3\" font-family=\"Times,serif\" font-size=\"14.00\" fill=\"#000000\">mse = 0.0</text>\n<text text-anchor=\"middle\" x=\"1458.5\" y=\"-119.3\" font-family=\"Times,serif\" font-size=\"14.00\" fill=\"#000000\">samples = 1</text>\n<text text-anchor=\"middle\" x=\"1458.5\" y=\"-104.3\" font-family=\"Times,serif\" font-size=\"14.00\" fill=\"#000000\">value = 50.0</text>\n</g>\n<!-- 30&#45;&gt;31 -->\n<g id=\"edge31\" class=\"edge\">\n<title>30&#45;&gt;31</title>\n<path fill=\"none\" stroke=\"#000000\" d=\"M1534.4996,-192.9465C1521.8134,-181.2707 1507.6322,-168.219 1494.987,-156.5809\"/>\n<polygon fill=\"#000000\" stroke=\"#000000\" points=\"1497.0673,-153.7389 1487.3391,-149.5422 1492.3269,-158.8895 1497.0673,-153.7389\"/>\n</g>\n<!-- 32 -->\n<g id=\"node33\" class=\"node\">\n<title>32</title>\n<polygon fill=\"#f0b58b\" stroke=\"#000000\" points=\"1625.5,-157 1521.5,-157 1521.5,-89 1625.5,-89 1625.5,-157\"/>\n<text text-anchor=\"middle\" x=\"1573.5\" y=\"-141.8\" font-family=\"Times,serif\" font-size=\"14.00\" fill=\"#000000\">RM &lt;= 7.083</text>\n<text text-anchor=\"middle\" x=\"1573.5\" y=\"-126.8\" font-family=\"Times,serif\" font-size=\"14.00\" fill=\"#000000\">mse = 8.235</text>\n<text text-anchor=\"middle\" x=\"1573.5\" y=\"-111.8\" font-family=\"Times,serif\" font-size=\"14.00\" fill=\"#000000\">samples = 26</text>\n<text text-anchor=\"middle\" x=\"1573.5\" y=\"-96.8\" font-family=\"Times,serif\" font-size=\"14.00\" fill=\"#000000\">value = 33.319</text>\n</g>\n<!-- 30&#45;&gt;32 -->\n<g id=\"edge32\" class=\"edge\">\n<title>30&#45;&gt;32</title>\n<path fill=\"none\" stroke=\"#000000\" d=\"M1572.1549,-192.9465C1572.312,-184.776 1572.4821,-175.9318 1572.6467,-167.3697\"/>\n<polygon fill=\"#000000\" stroke=\"#000000\" points=\"1576.1506,-167.1955 1572.8437,-157.13 1569.1519,-167.0608 1576.1506,-167.1955\"/>\n</g>\n<!-- 33 -->\n<g id=\"node34\" class=\"node\">\n<title>33</title>\n<polygon fill=\"#f2c09c\" stroke=\"#000000\" points=\"1622,-53 1525,-53 1525,0 1622,0 1622,-53\"/>\n<text text-anchor=\"middle\" x=\"1573.5\" y=\"-37.8\" font-family=\"Times,serif\" font-size=\"14.00\" fill=\"#000000\">mse = 10.322</text>\n<text text-anchor=\"middle\" x=\"1573.5\" y=\"-22.8\" font-family=\"Times,serif\" font-size=\"14.00\" fill=\"#000000\">samples = 5</text>\n<text text-anchor=\"middle\" x=\"1573.5\" y=\"-7.8\" font-family=\"Times,serif\" font-size=\"14.00\" fill=\"#000000\">value = 29.66</text>\n</g>\n<!-- 32&#45;&gt;33 -->\n<g id=\"edge33\" class=\"edge\">\n<title>32&#45;&gt;33</title>\n<path fill=\"none\" stroke=\"#000000\" d=\"M1573.5,-88.9777C1573.5,-80.7364 1573.5,-71.887 1573.5,-63.5153\"/>\n<polygon fill=\"#000000\" stroke=\"#000000\" points=\"1577.0001,-63.2484 1573.5,-53.2485 1570.0001,-63.2485 1577.0001,-63.2484\"/>\n</g>\n<!-- 34 -->\n<g id=\"node35\" class=\"node\">\n<title>34</title>\n<polygon fill=\"#efb286\" stroke=\"#000000\" points=\"1737,-53 1640,-53 1640,0 1737,0 1737,-53\"/>\n<text text-anchor=\"middle\" x=\"1688.5\" y=\"-37.8\" font-family=\"Times,serif\" font-size=\"14.00\" fill=\"#000000\">mse = 3.791</text>\n<text text-anchor=\"middle\" x=\"1688.5\" y=\"-22.8\" font-family=\"Times,serif\" font-size=\"14.00\" fill=\"#000000\">samples = 21</text>\n<text text-anchor=\"middle\" x=\"1688.5\" y=\"-7.8\" font-family=\"Times,serif\" font-size=\"14.00\" fill=\"#000000\">value = 34.19</text>\n</g>\n<!-- 32&#45;&gt;34 -->\n<g id=\"edge34\" class=\"edge\">\n<title>32&#45;&gt;34</title>\n<path fill=\"none\" stroke=\"#000000\" d=\"M1614.0447,-88.9777C1625.2845,-79.546 1637.4736,-69.3178 1648.6721,-59.9208\"/>\n<polygon fill=\"#000000\" stroke=\"#000000\" points=\"1651.213,-62.3576 1656.6236,-53.2485 1646.7134,-56.9954 1651.213,-62.3576\"/>\n</g>\n<!-- 36 -->\n<g id=\"node37\" class=\"node\">\n<title>36</title>\n<polygon fill=\"#fbeee4\" stroke=\"#000000\" points=\"1733,-149.5 1644,-149.5 1644,-96.5 1733,-96.5 1733,-149.5\"/>\n<text text-anchor=\"middle\" x=\"1688.5\" y=\"-134.3\" font-family=\"Times,serif\" font-size=\"14.00\" fill=\"#000000\">mse = 0.0</text>\n<text text-anchor=\"middle\" x=\"1688.5\" y=\"-119.3\" font-family=\"Times,serif\" font-size=\"14.00\" fill=\"#000000\">samples = 1</text>\n<text text-anchor=\"middle\" x=\"1688.5\" y=\"-104.3\" font-family=\"Times,serif\" font-size=\"14.00\" fill=\"#000000\">value = 15.0</text>\n</g>\n<!-- 35&#45;&gt;36 -->\n<g id=\"edge36\" class=\"edge\">\n<title>35&#45;&gt;36</title>\n<path fill=\"none\" stroke=\"#000000\" d=\"M1689.8451,-192.9465C1689.6397,-182.2621 1689.412,-170.4254 1689.2034,-159.5742\"/>\n<polygon fill=\"#000000\" stroke=\"#000000\" points=\"1692.7021,-159.473 1689.0104,-149.5422 1685.7034,-159.6076 1692.7021,-159.473\"/>\n</g>\n<!-- 37 -->\n<g id=\"node38\" class=\"node\">\n<title>37</title>\n<polygon fill=\"#fae5d7\" stroke=\"#000000\" points=\"1840,-149.5 1751,-149.5 1751,-96.5 1840,-96.5 1840,-149.5\"/>\n<text text-anchor=\"middle\" x=\"1795.5\" y=\"-134.3\" font-family=\"Times,serif\" font-size=\"14.00\" fill=\"#000000\">mse = 0.0</text>\n<text text-anchor=\"middle\" x=\"1795.5\" y=\"-119.3\" font-family=\"Times,serif\" font-size=\"14.00\" fill=\"#000000\">samples = 1</text>\n<text text-anchor=\"middle\" x=\"1795.5\" y=\"-104.3\" font-family=\"Times,serif\" font-size=\"14.00\" fill=\"#000000\">value = 17.8</text>\n</g>\n<!-- 35&#45;&gt;37 -->\n<g id=\"edge37\" class=\"edge\">\n<title>35&#45;&gt;37</title>\n<path fill=\"none\" stroke=\"#000000\" d=\"M1724.8809,-192.9465C1736.669,-181.2707 1749.8462,-168.219 1761.5962,-156.5809\"/>\n<polygon fill=\"#000000\" stroke=\"#000000\" points=\"1764.0608,-159.066 1768.7026,-149.5422 1759.1348,-154.0927 1764.0608,-159.066\"/>\n</g>\n<!-- 39 -->\n<g id=\"node40\" class=\"node\">\n<title>39</title>\n<polygon fill=\"#e88d4c\" stroke=\"#000000\" points=\"1974,-261 1847,-261 1847,-193 1974,-193 1974,-261\"/>\n<text text-anchor=\"middle\" x=\"1910.5\" y=\"-245.8\" font-family=\"Times,serif\" font-size=\"14.00\" fill=\"#000000\">PTRATIO &lt;= 17.9</text>\n<text text-anchor=\"middle\" x=\"1910.5\" y=\"-230.8\" font-family=\"Times,serif\" font-size=\"14.00\" fill=\"#000000\">mse = 16.885</text>\n<text text-anchor=\"middle\" x=\"1910.5\" y=\"-215.8\" font-family=\"Times,serif\" font-size=\"14.00\" fill=\"#000000\">samples = 27</text>\n<text text-anchor=\"middle\" x=\"1910.5\" y=\"-200.8\" font-family=\"Times,serif\" font-size=\"14.00\" fill=\"#000000\">value = 46.052</text>\n</g>\n<!-- 38&#45;&gt;39 -->\n<g id=\"edge39\" class=\"edge\">\n<title>38&#45;&gt;39</title>\n<path fill=\"none\" stroke=\"#000000\" d=\"M1910.5,-296.9465C1910.5,-288.776 1910.5,-279.9318 1910.5,-271.3697\"/>\n<polygon fill=\"#000000\" stroke=\"#000000\" points=\"1914.0001,-271.13 1910.5,-261.13 1907.0001,-271.13 1914.0001,-271.13\"/>\n</g>\n<!-- 46 -->\n<g id=\"node47\" class=\"node\">\n<title>46</title>\n<polygon fill=\"#f7d8c2\" stroke=\"#000000\" points=\"2081,-253.5 1992,-253.5 1992,-200.5 2081,-200.5 2081,-253.5\"/>\n<text text-anchor=\"middle\" x=\"2036.5\" y=\"-238.3\" font-family=\"Times,serif\" font-size=\"14.00\" fill=\"#000000\">mse = &#45;0.0</text>\n<text text-anchor=\"middle\" x=\"2036.5\" y=\"-223.3\" font-family=\"Times,serif\" font-size=\"14.00\" fill=\"#000000\">samples = 1</text>\n<text text-anchor=\"middle\" x=\"2036.5\" y=\"-208.3\" font-family=\"Times,serif\" font-size=\"14.00\" fill=\"#000000\">value = 21.9</text>\n</g>\n<!-- 38&#45;&gt;46 -->\n<g id=\"edge46\" class=\"edge\">\n<title>38&#45;&gt;46</title>\n<path fill=\"none\" stroke=\"#000000\" d=\"M1951.7571,-296.9465C1966.1697,-285.0504 1982.3127,-271.726 1996.6117,-259.9237\"/>\n<polygon fill=\"#000000\" stroke=\"#000000\" points=\"1998.8589,-262.6071 2004.3431,-253.5422 1994.4029,-257.2086 1998.8589,-262.6071\"/>\n</g>\n<!-- 40 -->\n<g id=\"node41\" class=\"node\">\n<title>40</title>\n<polygon fill=\"#e78a47\" stroke=\"#000000\" points=\"1962.5,-157 1858.5,-157 1858.5,-89 1962.5,-89 1962.5,-157\"/>\n<text text-anchor=\"middle\" x=\"1910.5\" y=\"-141.8\" font-family=\"Times,serif\" font-size=\"14.00\" fill=\"#000000\">RM &lt;= 7.783</text>\n<text text-anchor=\"middle\" x=\"1910.5\" y=\"-126.8\" font-family=\"Times,serif\" font-size=\"14.00\" fill=\"#000000\">mse = 10.608</text>\n<text text-anchor=\"middle\" x=\"1910.5\" y=\"-111.8\" font-family=\"Times,serif\" font-size=\"14.00\" fill=\"#000000\">samples = 23</text>\n<text text-anchor=\"middle\" x=\"1910.5\" y=\"-96.8\" font-family=\"Times,serif\" font-size=\"14.00\" fill=\"#000000\">value = 47.083</text>\n</g>\n<!-- 39&#45;&gt;40 -->\n<g id=\"edge40\" class=\"edge\">\n<title>39&#45;&gt;40</title>\n<path fill=\"none\" stroke=\"#000000\" d=\"M1910.5,-192.9465C1910.5,-184.776 1910.5,-175.9318 1910.5,-167.3697\"/>\n<polygon fill=\"#000000\" stroke=\"#000000\" points=\"1914.0001,-167.13 1910.5,-157.13 1907.0001,-167.13 1914.0001,-167.13\"/>\n</g>\n<!-- 43 -->\n<g id=\"node44\" class=\"node\">\n<title>43</title>\n<polygon fill=\"#eba069\" stroke=\"#000000\" points=\"2084.5,-157 1980.5,-157 1980.5,-89 2084.5,-89 2084.5,-157\"/>\n<text text-anchor=\"middle\" x=\"2032.5\" y=\"-141.8\" font-family=\"Times,serif\" font-size=\"14.00\" fill=\"#000000\">AGE &lt;= 44.35</text>\n<text text-anchor=\"middle\" x=\"2032.5\" y=\"-126.8\" font-family=\"Times,serif\" font-size=\"14.00\" fill=\"#000000\">mse = 11.737</text>\n<text text-anchor=\"middle\" x=\"2032.5\" y=\"-111.8\" font-family=\"Times,serif\" font-size=\"14.00\" fill=\"#000000\">samples = 4</text>\n<text text-anchor=\"middle\" x=\"2032.5\" y=\"-96.8\" font-family=\"Times,serif\" font-size=\"14.00\" fill=\"#000000\">value = 40.125</text>\n</g>\n<!-- 39&#45;&gt;43 -->\n<g id=\"edge43\" class=\"edge\">\n<title>39&#45;&gt;43</title>\n<path fill=\"none\" stroke=\"#000000\" d=\"M1950.4474,-192.9465C1961.4012,-183.6088 1973.3873,-173.3911 1984.732,-163.7203\"/>\n<polygon fill=\"#000000\" stroke=\"#000000\" points=\"1987.1233,-166.2809 1992.4629,-157.13 1982.5821,-160.9538 1987.1233,-166.2809\"/>\n</g>\n<!-- 41 -->\n<g id=\"node42\" class=\"node\">\n<title>41</title>\n<polygon fill=\"#e99254\" stroke=\"#000000\" points=\"1859.5,-53 1755.5,-53 1755.5,0 1859.5,0 1859.5,-53\"/>\n<text text-anchor=\"middle\" x=\"1807.5\" y=\"-37.8\" font-family=\"Times,serif\" font-size=\"14.00\" fill=\"#000000\">mse = 8.429</text>\n<text text-anchor=\"middle\" x=\"1807.5\" y=\"-22.8\" font-family=\"Times,serif\" font-size=\"14.00\" fill=\"#000000\">samples = 8</text>\n<text text-anchor=\"middle\" x=\"1807.5\" y=\"-7.8\" font-family=\"Times,serif\" font-size=\"14.00\" fill=\"#000000\">value = 44.425</text>\n</g>\n<!-- 40&#45;&gt;41 -->\n<g id=\"edge41\" class=\"edge\">\n<title>40&#45;&gt;41</title>\n<path fill=\"none\" stroke=\"#000000\" d=\"M1874.1861,-88.9777C1864.2168,-79.6376 1853.4138,-69.5163 1843.4643,-60.1947\"/>\n<polygon fill=\"#000000\" stroke=\"#000000\" points=\"1845.7408,-57.5314 1836.0502,-53.2485 1840.9548,-62.6397 1845.7408,-57.5314\"/>\n</g>\n<!-- 42 -->\n<g id=\"node43\" class=\"node\">\n<title>42</title>\n<polygon fill=\"#e68640\" stroke=\"#000000\" points=\"1969.5,-53 1877.5,-53 1877.5,0 1969.5,0 1969.5,-53\"/>\n<text text-anchor=\"middle\" x=\"1923.5\" y=\"-37.8\" font-family=\"Times,serif\" font-size=\"14.00\" fill=\"#000000\">mse = 5.995</text>\n<text text-anchor=\"middle\" x=\"1923.5\" y=\"-22.8\" font-family=\"Times,serif\" font-size=\"14.00\" fill=\"#000000\">samples = 15</text>\n<text text-anchor=\"middle\" x=\"1923.5\" y=\"-7.8\" font-family=\"Times,serif\" font-size=\"14.00\" fill=\"#000000\">value = 48.5</text>\n</g>\n<!-- 40&#45;&gt;42 -->\n<g id=\"edge42\" class=\"edge\">\n<title>40&#45;&gt;42</title>\n<path fill=\"none\" stroke=\"#000000\" d=\"M1915.0833,-88.9777C1916.2059,-80.6449 1917.4122,-71.6903 1918.551,-63.2364\"/>\n<polygon fill=\"#000000\" stroke=\"#000000\" points=\"1922.0301,-63.6263 1919.8966,-53.2485 1915.0927,-62.6916 1922.0301,-63.6263\"/>\n</g>\n<!-- 44 -->\n<g id=\"node45\" class=\"node\">\n<title>44</title>\n<polygon fill=\"#e9965a\" stroke=\"#000000\" points=\"2077,-53 1988,-53 1988,0 2077,0 2077,-53\"/>\n<text text-anchor=\"middle\" x=\"2032.5\" y=\"-37.8\" font-family=\"Times,serif\" font-size=\"14.00\" fill=\"#000000\">mse = 0.25</text>\n<text text-anchor=\"middle\" x=\"2032.5\" y=\"-22.8\" font-family=\"Times,serif\" font-size=\"14.00\" fill=\"#000000\">samples = 2</text>\n<text text-anchor=\"middle\" x=\"2032.5\" y=\"-7.8\" font-family=\"Times,serif\" font-size=\"14.00\" fill=\"#000000\">value = 43.3</text>\n</g>\n<!-- 43&#45;&gt;44 -->\n<g id=\"edge44\" class=\"edge\">\n<title>43&#45;&gt;44</title>\n<path fill=\"none\" stroke=\"#000000\" d=\"M2032.5,-88.9777C2032.5,-80.7364 2032.5,-71.887 2032.5,-63.5153\"/>\n<polygon fill=\"#000000\" stroke=\"#000000\" points=\"2036.0001,-63.2484 2032.5,-53.2485 2029.0001,-63.2485 2036.0001,-63.2484\"/>\n</g>\n<!-- 45 -->\n<g id=\"node46\" class=\"node\">\n<title>45</title>\n<polygon fill=\"#edaa79\" stroke=\"#000000\" points=\"2192,-53 2095,-53 2095,0 2192,0 2192,-53\"/>\n<text text-anchor=\"middle\" x=\"2143.5\" y=\"-37.8\" font-family=\"Times,serif\" font-size=\"14.00\" fill=\"#000000\">mse = 3.062</text>\n<text text-anchor=\"middle\" x=\"2143.5\" y=\"-22.8\" font-family=\"Times,serif\" font-size=\"14.00\" fill=\"#000000\">samples = 2</text>\n<text text-anchor=\"middle\" x=\"2143.5\" y=\"-7.8\" font-family=\"Times,serif\" font-size=\"14.00\" fill=\"#000000\">value = 36.95</text>\n</g>\n<!-- 43&#45;&gt;45 -->\n<g id=\"edge45\" class=\"edge\">\n<title>43&#45;&gt;45</title>\n<path fill=\"none\" stroke=\"#000000\" d=\"M2071.6344,-88.9777C2082.4833,-79.546 2094.2484,-69.3178 2105.0574,-59.9208\"/>\n<polygon fill=\"#000000\" stroke=\"#000000\" points=\"2107.4819,-62.4508 2112.7323,-53.2485 2102.8892,-57.1681 2107.4819,-62.4508\"/>\n</g>\n</g>\n</svg>\n"
          },
          "metadata": {
            "tags": []
          },
          "execution_count": 5
        }
      ]
    },
    {
      "cell_type": "code",
      "metadata": {
        "id": "0JMpnnnW7fu6",
        "outputId": "2441c0e9-defc-4c1c-8b9a-8f0e55c0df55",
        "colab": {
          "base_uri": "https://localhost:8080/",
          "height": 34
        }
      },
      "source": [
        "from sklearn.metrics import r2_score\n",
        "pre = reg.predict(x_test)\n",
        "# value為samples之平均值\n",
        "# pre\n",
        "r2_score(y_test, pre)"
      ],
      "execution_count": null,
      "outputs": [
        {
          "output_type": "execute_result",
          "data": {
            "text/plain": [
              "0.8605138573412867"
            ]
          },
          "metadata": {
            "tags": []
          },
          "execution_count": 7
        }
      ]
    }
  ]
}